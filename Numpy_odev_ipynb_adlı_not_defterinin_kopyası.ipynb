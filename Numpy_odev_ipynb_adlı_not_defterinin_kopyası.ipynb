{
  "cells": [
    {
      "cell_type": "markdown",
      "metadata": {
        "id": "view-in-github",
        "colab_type": "text"
      },
      "source": [
        "<a href=\"https://colab.research.google.com/github/ahsenozturk1/hi-work---odev/blob/main/Numpy_odev_ipynb_adl%C4%B1_not_defterinin_kopyas%C4%B1.ipynb\" target=\"_parent\"><img src=\"https://colab.research.google.com/assets/colab-badge.svg\" alt=\"Open In Colab\"/></a>"
      ]
    },
    {
      "cell_type": "markdown",
      "id": "a0f6364d",
      "metadata": {
        "id": "a0f6364d"
      },
      "source": [
        "##### 1.Sayılardan oluşan bir boyutlu array oluşturun. Arrayi oluştururken sayıların veri tipini integer olarak belirtelim.\n",
        "\n",
        "Oluşturulan arrayin boyut, eleman sayısı bilgilerine bakalım."
      ]
    },
    {
      "cell_type": "code",
      "execution_count": null,
      "id": "c16c30a6",
      "metadata": {
        "colab": {
          "base_uri": "https://localhost:8080/"
        },
        "id": "c16c30a6",
        "outputId": "60dafd00-3852-40be-ed92-fd3bca327a36"
      },
      "outputs": [
        {
          "output_type": "execute_result",
          "data": {
            "text/plain": [
              "array([1, 2, 3, 4, 5])"
            ]
          },
          "metadata": {},
          "execution_count": 7
        }
      ],
      "source": [
        "import numpy as np\n",
        "arr = np.array([1, 2, 3, 4, 5], dtype=int)\n",
        "arr"
      ]
    },
    {
      "cell_type": "code",
      "source": [
        "print(\"Array boyutu (ndim):\", arr.ndim)\n",
        "\n",
        "print(\"Array eleman sayısı (size):\", arr.size)\n",
        "\n",
        "print(\"Array şekli (shape):\", arr.shape)"
      ],
      "metadata": {
        "colab": {
          "base_uri": "https://localhost:8080/"
        },
        "id": "StQzSBlIKJ0t",
        "outputId": "586fb142-6e7c-452f-ddad-ff3305b7d1e9"
      },
      "id": "StQzSBlIKJ0t",
      "execution_count": null,
      "outputs": [
        {
          "output_type": "stream",
          "name": "stdout",
          "text": [
            "Array boyutu (ndim): 1\n",
            "Array eleman sayısı (size): 5\n",
            "Array şekli (shape): (5,)\n"
          ]
        }
      ]
    },
    {
      "cell_type": "markdown",
      "id": "1681f851",
      "metadata": {
        "id": "1681f851"
      },
      "source": [
        "##### 2. Aşağıda verilen iki boyutlu ve üç boyutlu arrayi oluşturalım. Bu arraylerin boyut, eleman sayısı, satır, sütun bilgilerine ulaşalım.\n",
        "\n",
        "İki boyutlu array:\n",
        "[[1,2,6,7],\n",
        " [4,3,9,5]]\n",
        "\n",
        "Üç boyutlu array:\n",
        "[[[7,5,14],[21,8,11]],\n",
        " [[8,6,20],[14,3,9]]]\n",
        "\n"
      ]
    },
    {
      "cell_type": "code",
      "execution_count": null,
      "id": "e3a138ed",
      "metadata": {
        "colab": {
          "base_uri": "https://localhost:8080/"
        },
        "id": "e3a138ed",
        "outputId": "9e042f34-7a24-40db-8359-49f1937b6d5f"
      },
      "outputs": [
        {
          "output_type": "stream",
          "name": "stdout",
          "text": [
            "2D Array:\n",
            "[[1 2 6 7]\n",
            " [4 3 9 5]]\n",
            "Boyut sayısı (ndim): 2\n",
            "Toplam eleman sayısı (size): 8\n",
            "Shape (satır, sütun): (2, 4)\n"
          ]
        }
      ],
      "source": [
        "import numpy as np\n",
        "\n",
        "arr2d = np.array([[1, 2, 6, 7],\n",
        "                  [4, 3, 9, 5]])\n",
        "\n",
        "print(\"2D Array:\")\n",
        "print(arr2d)\n",
        "print(\"Boyut sayısı (ndim):\", arr2d.ndim)\n",
        "print(\"Toplam eleman sayısı (size):\", arr2d.size)\n",
        "print(\"Shape (satır, sütun):\", arr2d.shape)"
      ]
    },
    {
      "cell_type": "code",
      "source": [
        "arr3d = np.array([[[7, 5, 14], [21, 8, 11]],\n",
        "                  [[8, 6, 20], [14, 3, 9]]])\n",
        "\n",
        "print(\"\\n3D Array:\")\n",
        "print(arr3d)\n",
        "print(\"Boyut sayısı (ndim):\", arr3d.ndim)\n",
        "print(\"Toplam eleman sayısı (size):\", arr3d.size)\n",
        "print(\"Shape (katman, satır, sütun):\", arr3d.shape)"
      ],
      "metadata": {
        "colab": {
          "base_uri": "https://localhost:8080/"
        },
        "id": "8xifk46bLWkg",
        "outputId": "78a88207-1949-42ef-f833-061f4c0d447a"
      },
      "id": "8xifk46bLWkg",
      "execution_count": null,
      "outputs": [
        {
          "output_type": "stream",
          "name": "stdout",
          "text": [
            "\n",
            "3D Array:\n",
            "[[[ 7  5 14]\n",
            "  [21  8 11]]\n",
            "\n",
            " [[ 8  6 20]\n",
            "  [14  3  9]]]\n",
            "Boyut sayısı (ndim): 3\n",
            "Toplam eleman sayısı (size): 12\n",
            "Shape (katman, satır, sütun): (2, 2, 3)\n"
          ]
        }
      ]
    },
    {
      "cell_type": "markdown",
      "id": "b45192b0",
      "metadata": {
        "id": "b45192b0"
      },
      "source": [
        "##### 3. İstenilen elamanlara ulaşmak için arrayler üzerinde indexleme işlemi yapalım"
      ]
    },
    {
      "cell_type": "code",
      "execution_count": null,
      "id": "563f9992",
      "metadata": {
        "colab": {
          "base_uri": "https://localhost:8080/"
        },
        "id": "563f9992",
        "outputId": "f8598b15-e53c-422e-cab6-872a6c68f72c"
      },
      "outputs": [
        {
          "output_type": "stream",
          "name": "stdout",
          "text": [
            "2\n"
          ]
        }
      ],
      "source": [
        "#İki boyutlu arraydaki 2 elemanına ulaşalım\n",
        "print(arr2d[0, 1])"
      ]
    },
    {
      "cell_type": "code",
      "execution_count": null,
      "id": "fd0a0be4",
      "metadata": {
        "colab": {
          "base_uri": "https://localhost:8080/"
        },
        "id": "fd0a0be4",
        "outputId": "a2165040-7080-4ae4-af58-87afcaf5059a"
      },
      "outputs": [
        {
          "output_type": "stream",
          "name": "stdout",
          "text": [
            "7\n"
          ]
        }
      ],
      "source": [
        "#İki boyutlu arraydaki 7 elemanına ulaşalım\n",
        "print(arr2d[0, 3])"
      ]
    },
    {
      "cell_type": "code",
      "execution_count": null,
      "id": "0c2b1884",
      "metadata": {
        "colab": {
          "base_uri": "https://localhost:8080/"
        },
        "id": "0c2b1884",
        "outputId": "22d383da-1cad-4914-dd2f-eb5f9e2c92a7"
      },
      "outputs": [
        {
          "output_type": "stream",
          "name": "stdout",
          "text": [
            "9\n"
          ]
        }
      ],
      "source": [
        "#Üç boyutlu arraydaki 9 elemanına ulaşalım\n",
        "print(arr3d[1, 1, 2])"
      ]
    },
    {
      "cell_type": "code",
      "execution_count": null,
      "id": "0dc07d00",
      "metadata": {
        "colab": {
          "base_uri": "https://localhost:8080/"
        },
        "id": "0dc07d00",
        "outputId": "2dc300e4-2a49-4af6-f370-94feb14c811a"
      },
      "outputs": [
        {
          "output_type": "stream",
          "name": "stdout",
          "text": [
            "5\n"
          ]
        }
      ],
      "source": [
        "#Üç boyutlu arraydaki 5 elemanına ulaşalım\n",
        "print(arr3d[0, 0, 1])"
      ]
    },
    {
      "cell_type": "markdown",
      "id": "12198bc9",
      "metadata": {
        "id": "12198bc9"
      },
      "source": [
        "##### 4. Arrayler üzerinde slicing işlemi uygulayalım."
      ]
    },
    {
      "cell_type": "code",
      "execution_count": null,
      "id": "9d066ba1",
      "metadata": {
        "colab": {
          "base_uri": "https://localhost:8080/"
        },
        "id": "9d066ba1",
        "outputId": "0487517e-5c1b-4f28-c8e7-f2c51efd9644"
      },
      "outputs": [
        {
          "output_type": "stream",
          "name": "stdout",
          "text": [
            "[2 6]\n"
          ]
        }
      ],
      "source": [
        "#İki boyutlu arraydaki 2,6 elemanlarına ulaşalım\n",
        "print(arr2d[0, 1:3])"
      ]
    },
    {
      "cell_type": "code",
      "execution_count": null,
      "id": "e020f980",
      "metadata": {
        "colab": {
          "base_uri": "https://localhost:8080/"
        },
        "id": "e020f980",
        "outputId": "22e00401-5246-48af-8639-1e4d48e14c5e"
      },
      "outputs": [
        {
          "output_type": "stream",
          "name": "stdout",
          "text": [
            "[3 9 5]\n"
          ]
        }
      ],
      "source": [
        "#İki boyutlu arraydaki 3,9,5 elemanlarına ulaşalım\n",
        "print(arr2d[1, 1:4])"
      ]
    },
    {
      "cell_type": "code",
      "execution_count": null,
      "id": "891bed31",
      "metadata": {
        "colab": {
          "base_uri": "https://localhost:8080/"
        },
        "id": "891bed31",
        "outputId": "8a29e495-d1b3-4fe1-b783-f3c83e9308f5"
      },
      "outputs": [
        {
          "output_type": "stream",
          "name": "stdout",
          "text": [
            "[21  8 11]\n"
          ]
        }
      ],
      "source": [
        "#Üç boyutlu arraydaki 21,8,11 elemanlarına ulaşalım\n",
        "print(arr3d[0, 1, :])"
      ]
    },
    {
      "cell_type": "code",
      "execution_count": null,
      "id": "bcbf5f17",
      "metadata": {
        "colab": {
          "base_uri": "https://localhost:8080/"
        },
        "id": "bcbf5f17",
        "outputId": "cb005d16-a1dd-4398-bf70-dcc29587b066"
      },
      "outputs": [
        {
          "output_type": "stream",
          "name": "stdout",
          "text": [
            "[3 9 5]\n"
          ]
        }
      ],
      "source": [
        "#Üç boyutlu arraydaki 6,20 elemanlarına ulaşalım\n",
        "print(arr2d[1, 1:4])"
      ]
    },
    {
      "cell_type": "markdown",
      "id": "66d2aab8",
      "metadata": {
        "id": "66d2aab8"
      },
      "source": [
        "##### 5. 5 satır 3 sütunluk sıfırlardan ve birlerden oluşan iki tane iki boyutlu array oluşturalım. Bu arrayleri satır ve sütun bazında birleştirelim."
      ]
    },
    {
      "cell_type": "code",
      "execution_count": null,
      "id": "99a6ed29",
      "metadata": {
        "colab": {
          "base_uri": "https://localhost:8080/"
        },
        "id": "99a6ed29",
        "outputId": "382ff022-6e58-4446-8575-9d44e3baf771"
      },
      "outputs": [
        {
          "output_type": "stream",
          "name": "stdout",
          "text": [
            "Array 1:\n",
            " [[0 0 0]\n",
            " [0 0 0]\n",
            " [0 0 0]\n",
            " [0 0 0]\n",
            " [0 0 0]]\n",
            "\n",
            "Array 2:\n",
            " [[1 1 1]\n",
            " [1 1 1]\n",
            " [1 1 1]\n",
            " [1 1 1]\n",
            " [1 1 1]]\n"
          ]
        }
      ],
      "source": [
        "arr1 = np.zeros((5, 3), dtype=int)  # sıfırlardan oluşan\n",
        "arr2 = np.ones((5, 3), dtype=int)   # birlerden oluşan\n",
        "\n",
        "print(\"Array 1:\\n\", arr1)\n",
        "print(\"\\nArray 2:\\n\", arr2)"
      ]
    },
    {
      "cell_type": "code",
      "source": [
        "arr_row_concat = np.concatenate((arr1, arr2), axis=0)\n",
        "\n",
        "print(\"\\nSatır bazında birleştirilmiş array:\\n\", arr_row_concat)"
      ],
      "metadata": {
        "colab": {
          "base_uri": "https://localhost:8080/"
        },
        "id": "YlOeLxZNO0GV",
        "outputId": "710228a9-04e6-4ad5-aadb-8c810cc5481a"
      },
      "id": "YlOeLxZNO0GV",
      "execution_count": null,
      "outputs": [
        {
          "output_type": "stream",
          "name": "stdout",
          "text": [
            "\n",
            "Satır bazında birleştirilmiş array:\n",
            " [[0 0 0]\n",
            " [0 0 0]\n",
            " [0 0 0]\n",
            " [0 0 0]\n",
            " [0 0 0]\n",
            " [1 1 1]\n",
            " [1 1 1]\n",
            " [1 1 1]\n",
            " [1 1 1]\n",
            " [1 1 1]]\n"
          ]
        }
      ]
    },
    {
      "cell_type": "code",
      "source": [
        "arr_col_concat = np.concatenate((arr1, arr2), axis=1)\n",
        "\n",
        "print(\"\\nSütun bazında birleştirilmiş array:\\n\", arr_col_concat)"
      ],
      "metadata": {
        "colab": {
          "base_uri": "https://localhost:8080/"
        },
        "id": "HR_bxSDWO9h0",
        "outputId": "f85e60f7-9a4d-46f1-b588-58d4c0599e65"
      },
      "id": "HR_bxSDWO9h0",
      "execution_count": null,
      "outputs": [
        {
          "output_type": "stream",
          "name": "stdout",
          "text": [
            "\n",
            "Sütun bazında birleştirilmiş array:\n",
            " [[0 0 0 1 1 1]\n",
            " [0 0 0 1 1 1]\n",
            " [0 0 0 1 1 1]\n",
            " [0 0 0 1 1 1]\n",
            " [0 0 0 1 1 1]]\n"
          ]
        }
      ]
    }
  ],
  "metadata": {
    "kernelspec": {
      "display_name": "Python 3 (ipykernel)",
      "language": "python",
      "name": "python3"
    },
    "language_info": {
      "codemirror_mode": {
        "name": "ipython",
        "version": 3
      },
      "file_extension": ".py",
      "mimetype": "text/x-python",
      "name": "python",
      "nbconvert_exporter": "python",
      "pygments_lexer": "ipython3",
      "version": "3.9.12"
    },
    "colab": {
      "provenance": [],
      "include_colab_link": true
    }
  },
  "nbformat": 4,
  "nbformat_minor": 5
}