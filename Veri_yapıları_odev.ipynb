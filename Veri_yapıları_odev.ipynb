{
  "cells": [
    {
      "cell_type": "markdown",
      "metadata": {
        "id": "view-in-github",
        "colab_type": "text"
      },
      "source": [
        "<a href=\"https://colab.research.google.com/github/ahsenozturk1/hi-work---odev/blob/main/Veri_yap%C4%B1lar%C4%B1_odev.ipynb\" target=\"_parent\"><img src=\"https://colab.research.google.com/assets/colab-badge.svg\" alt=\"Open In Colab\"/></a>"
      ]
    },
    {
      "cell_type": "markdown",
      "id": "032d81b2",
      "metadata": {
        "id": "032d81b2"
      },
      "source": [
        "# 1\n",
        "x = 3 ----> floata çevirelim. Çevirdikten sonra beri tipinide yazdıralım.\n",
        "\n",
        "y = 4.5 -----> integere çevirelim. Çevirdikten sonra beri tipinide yazdıralım.\n",
        "\n",
        "z = \"8\" -----> integera çevirelim. Çevirdikten sonra beri tipinide yazdıralım.\n",
        "\n",
        "a = \"12\" -----> floata çevirelim. Çevirdikten sonra beri tipinide yazdıralım.\n",
        "\n",
        "b = \"46.8\" ------> integera çevirelim. Çevirdikten sonra beri tipinide yazdıralım."
      ]
    },
    {
      "cell_type": "code",
      "execution_count": null,
      "id": "f1b735c0",
      "metadata": {
        "colab": {
          "base_uri": "https://localhost:8080/"
        },
        "id": "f1b735c0",
        "outputId": "ed4108ff-99e0-49a3-c442-26999c9a37b1"
      },
      "outputs": [
        {
          "output_type": "execute_result",
          "data": {
            "text/plain": [
              "3.0"
            ]
          },
          "metadata": {},
          "execution_count": 13
        }
      ],
      "source": [
        "float(3)"
      ]
    },
    {
      "cell_type": "code",
      "source": [
        "type(3.0)"
      ],
      "metadata": {
        "colab": {
          "base_uri": "https://localhost:8080/"
        },
        "id": "xXRoiRj6RNCs",
        "outputId": "e9f86a58-793e-4dad-8c2c-c3ecc7d79cbc"
      },
      "id": "xXRoiRj6RNCs",
      "execution_count": null,
      "outputs": [
        {
          "output_type": "execute_result",
          "data": {
            "text/plain": [
              "float"
            ]
          },
          "metadata": {},
          "execution_count": 15
        }
      ]
    },
    {
      "cell_type": "code",
      "source": [
        "int(4.5)"
      ],
      "metadata": {
        "colab": {
          "base_uri": "https://localhost:8080/"
        },
        "id": "P3sjwRD7QwP4",
        "outputId": "e7d4f2a1-3402-42cf-a68e-f32567cc9f5d"
      },
      "id": "P3sjwRD7QwP4",
      "execution_count": null,
      "outputs": [
        {
          "output_type": "execute_result",
          "data": {
            "text/plain": [
              "4"
            ]
          },
          "metadata": {},
          "execution_count": 7
        }
      ]
    },
    {
      "cell_type": "code",
      "source": [
        "type(4)"
      ],
      "metadata": {
        "colab": {
          "base_uri": "https://localhost:8080/"
        },
        "id": "hqvZl7dMQ5S-",
        "outputId": "8048ef81-8093-45bf-a3b3-717d24fe0542"
      },
      "id": "hqvZl7dMQ5S-",
      "execution_count": null,
      "outputs": [
        {
          "output_type": "execute_result",
          "data": {
            "text/plain": [
              "int"
            ]
          },
          "metadata": {},
          "execution_count": 8
        }
      ]
    },
    {
      "cell_type": "code",
      "source": [
        "int(\"8\")"
      ],
      "metadata": {
        "colab": {
          "base_uri": "https://localhost:8080/"
        },
        "id": "eoGBbDEPQ9G1",
        "outputId": "45f15b52-d0eb-4469-9639-1b47bcc9b5f9"
      },
      "id": "eoGBbDEPQ9G1",
      "execution_count": null,
      "outputs": [
        {
          "output_type": "execute_result",
          "data": {
            "text/plain": [
              "8"
            ]
          },
          "metadata": {},
          "execution_count": 9
        }
      ]
    },
    {
      "cell_type": "code",
      "source": [
        "type(8)"
      ],
      "metadata": {
        "colab": {
          "base_uri": "https://localhost:8080/"
        },
        "id": "OEjs4JZwRAx0",
        "outputId": "4804dc19-dca0-45f2-d0d2-2901de7e0363"
      },
      "id": "OEjs4JZwRAx0",
      "execution_count": null,
      "outputs": [
        {
          "output_type": "execute_result",
          "data": {
            "text/plain": [
              "int"
            ]
          },
          "metadata": {},
          "execution_count": 10
        }
      ]
    },
    {
      "cell_type": "code",
      "source": [
        "float(\"12\")"
      ],
      "metadata": {
        "colab": {
          "base_uri": "https://localhost:8080/"
        },
        "id": "P8Kz26gnRDFk",
        "outputId": "4c50823f-ee56-4009-f5f7-1fe8432e8156"
      },
      "id": "P8Kz26gnRDFk",
      "execution_count": null,
      "outputs": [
        {
          "output_type": "execute_result",
          "data": {
            "text/plain": [
              "12.0"
            ]
          },
          "metadata": {},
          "execution_count": 11
        }
      ]
    },
    {
      "cell_type": "code",
      "source": [
        "type(12.0)"
      ],
      "metadata": {
        "colab": {
          "base_uri": "https://localhost:8080/"
        },
        "id": "l0U7WYm5RHCU",
        "outputId": "e55b7c2c-2c2c-4dd7-a7d6-a8631b6545c7"
      },
      "id": "l0U7WYm5RHCU",
      "execution_count": null,
      "outputs": [
        {
          "output_type": "execute_result",
          "data": {
            "text/plain": [
              "float"
            ]
          },
          "metadata": {},
          "execution_count": 16
        }
      ]
    },
    {
      "cell_type": "code",
      "source": [
        "float(\"46.8\")"
      ],
      "metadata": {
        "colab": {
          "base_uri": "https://localhost:8080/"
        },
        "id": "f8-GPx7HRZ3L",
        "outputId": "00fe5f0b-3136-43e5-a82e-7c0db416795f"
      },
      "id": "f8-GPx7HRZ3L",
      "execution_count": null,
      "outputs": [
        {
          "output_type": "execute_result",
          "data": {
            "text/plain": [
              "46.8"
            ]
          },
          "metadata": {},
          "execution_count": 18
        }
      ]
    },
    {
      "cell_type": "code",
      "source": [
        "int(46.8)"
      ],
      "metadata": {
        "colab": {
          "base_uri": "https://localhost:8080/"
        },
        "id": "QUvyys8bSFbB",
        "outputId": "d89e3ed1-f43a-4cb5-830c-a29f9320545b"
      },
      "id": "QUvyys8bSFbB",
      "execution_count": null,
      "outputs": [
        {
          "output_type": "execute_result",
          "data": {
            "text/plain": [
              "46"
            ]
          },
          "metadata": {},
          "execution_count": 19
        }
      ]
    },
    {
      "cell_type": "code",
      "source": [
        "type(46)"
      ],
      "metadata": {
        "colab": {
          "base_uri": "https://localhost:8080/"
        },
        "id": "Jc4vRI-TSOsQ",
        "outputId": "21bb7e09-3913-481c-8ab3-1a188b06ae70"
      },
      "id": "Jc4vRI-TSOsQ",
      "execution_count": null,
      "outputs": [
        {
          "output_type": "execute_result",
          "data": {
            "text/plain": [
              "int"
            ]
          },
          "metadata": {},
          "execution_count": 20
        }
      ]
    },
    {
      "cell_type": "markdown",
      "id": "95509718",
      "metadata": {
        "id": "95509718"
      },
      "source": [
        "# 2\n",
        "İsimlerden oluşan üç değişkene yaş değerleri atanır. Belirlenen üç değişken birbiriyle karşılaştırma operatörleri ile karşılaştırılır. Bu karşılaştırmalara mantıksal operatörler de eklenir."
      ]
    },
    {
      "cell_type": "code",
      "execution_count": null,
      "id": "50f77b4f",
      "metadata": {
        "id": "50f77b4f"
      },
      "outputs": [],
      "source": [
        "ahsen = 44\n",
        "esin = 40\n",
        "ali = 30"
      ]
    },
    {
      "cell_type": "code",
      "source": [
        "44 == 40"
      ],
      "metadata": {
        "colab": {
          "base_uri": "https://localhost:8080/"
        },
        "id": "8CNLGLqzSoRH",
        "outputId": "5e79fd51-5062-4344-f4ba-34086aed83b7"
      },
      "id": "8CNLGLqzSoRH",
      "execution_count": null,
      "outputs": [
        {
          "output_type": "execute_result",
          "data": {
            "text/plain": [
              "False"
            ]
          },
          "metadata": {},
          "execution_count": 25
        }
      ]
    },
    {
      "cell_type": "code",
      "source": [
        "30 < 40"
      ],
      "metadata": {
        "colab": {
          "base_uri": "https://localhost:8080/"
        },
        "id": "tNZcIeBbSs-f",
        "outputId": "7ee02af9-b1ec-400f-8655-527f9ec445d9"
      },
      "id": "tNZcIeBbSs-f",
      "execution_count": null,
      "outputs": [
        {
          "output_type": "execute_result",
          "data": {
            "text/plain": [
              "True"
            ]
          },
          "metadata": {},
          "execution_count": 26
        }
      ]
    },
    {
      "cell_type": "code",
      "source": [
        "40 != 44"
      ],
      "metadata": {
        "colab": {
          "base_uri": "https://localhost:8080/"
        },
        "id": "s7LcOMAzS5iO",
        "outputId": "513671ed-fb59-494d-934c-c0a775f4de2f"
      },
      "id": "s7LcOMAzS5iO",
      "execution_count": null,
      "outputs": [
        {
          "output_type": "execute_result",
          "data": {
            "text/plain": [
              "True"
            ]
          },
          "metadata": {},
          "execution_count": 27
        }
      ]
    },
    {
      "cell_type": "code",
      "source": [
        "ahsen < 50 and ali < 30"
      ],
      "metadata": {
        "colab": {
          "base_uri": "https://localhost:8080/"
        },
        "id": "ZnGsuRZSTAYe",
        "outputId": "a0e8efc9-10f8-4ae5-8979-9c954a2072fb"
      },
      "id": "ZnGsuRZSTAYe",
      "execution_count": null,
      "outputs": [
        {
          "output_type": "execute_result",
          "data": {
            "text/plain": [
              "False"
            ]
          },
          "metadata": {},
          "execution_count": 28
        }
      ]
    },
    {
      "cell_type": "code",
      "source": [
        "(ahsen < 45) or (ali < 19)"
      ],
      "metadata": {
        "colab": {
          "base_uri": "https://localhost:8080/"
        },
        "id": "8JnCFIGGTGIG",
        "outputId": "bbbcc139-d994-4ab7-d980-a9fe13e7f3e8"
      },
      "id": "8JnCFIGGTGIG",
      "execution_count": null,
      "outputs": [
        {
          "output_type": "execute_result",
          "data": {
            "text/plain": [
              "True"
            ]
          },
          "metadata": {},
          "execution_count": 29
        }
      ]
    },
    {
      "cell_type": "code",
      "source": [
        "not(esin < 40 and ali > 40)"
      ],
      "metadata": {
        "colab": {
          "base_uri": "https://localhost:8080/"
        },
        "id": "a3aMkC1tToVs",
        "outputId": "f45fd436-12cc-4a0c-fa5f-b9a3b83e1000"
      },
      "id": "a3aMkC1tToVs",
      "execution_count": null,
      "outputs": [
        {
          "output_type": "execute_result",
          "data": {
            "text/plain": [
              "True"
            ]
          },
          "metadata": {},
          "execution_count": 30
        }
      ]
    },
    {
      "cell_type": "markdown",
      "id": "a1a0eb92",
      "metadata": {
        "id": "a1a0eb92"
      },
      "source": [
        "# 3\n",
        "Kullanıcıdan iki değer girmesini istenir. Girilen değerlerin toplama, çıkarma, çarpma, bölme sonuçlarını yazdırılır."
      ]
    },
    {
      "cell_type": "code",
      "execution_count": null,
      "id": "c361e45a",
      "metadata": {
        "colab": {
          "base_uri": "https://localhost:8080/"
        },
        "id": "c361e45a",
        "outputId": "1152a96f-e778-4359-a2a4-25d0da78bb3d"
      },
      "outputs": [
        {
          "output_type": "stream",
          "name": "stdout",
          "text": [
            "Yaşiniz: 44\n",
            "44\n"
          ]
        }
      ],
      "source": [
        "age = input(\"Yaşiniz: \")\n",
        "print(age)"
      ]
    },
    {
      "cell_type": "code",
      "source": [
        "araba_plaka = input(\"Arabanızın plakası: \")\n",
        "print(araba_plaka)"
      ],
      "metadata": {
        "colab": {
          "base_uri": "https://localhost:8080/"
        },
        "id": "oPfJM1UMT9Tj",
        "outputId": "64f9b9e5-9543-4e46-f4f5-2f37c8ed6133"
      },
      "id": "oPfJM1UMT9Tj",
      "execution_count": null,
      "outputs": [
        {
          "output_type": "stream",
          "name": "stdout",
          "text": [
            "Arabanızın plakası: 43\n",
            "43\n"
          ]
        }
      ]
    },
    {
      "cell_type": "code",
      "source": [
        "int(age) + 10"
      ],
      "metadata": {
        "colab": {
          "base_uri": "https://localhost:8080/"
        },
        "collapsed": true,
        "id": "6HPx5fMoUG3y",
        "outputId": "18845de4-fcc9-4f13-e906-9587a31b4041"
      },
      "id": "6HPx5fMoUG3y",
      "execution_count": null,
      "outputs": [
        {
          "output_type": "execute_result",
          "data": {
            "text/plain": [
              "54"
            ]
          },
          "metadata": {},
          "execution_count": 34
        }
      ]
    },
    {
      "cell_type": "code",
      "source": [
        "int(araba_plaka) - 5"
      ],
      "metadata": {
        "colab": {
          "base_uri": "https://localhost:8080/"
        },
        "id": "kNIuyo9lUQzC",
        "outputId": "c46a1d23-d192-42af-ca2c-8be2dbcbbf05"
      },
      "id": "kNIuyo9lUQzC",
      "execution_count": null,
      "outputs": [
        {
          "output_type": "execute_result",
          "data": {
            "text/plain": [
              "38"
            ]
          },
          "metadata": {},
          "execution_count": 35
        }
      ]
    },
    {
      "cell_type": "code",
      "source": [
        "int(age) * int(araba_plaka)"
      ],
      "metadata": {
        "colab": {
          "base_uri": "https://localhost:8080/"
        },
        "id": "ejbv1bjfUW2J",
        "outputId": "2d33b28a-9215-4af9-967c-76c2aa45a934"
      },
      "id": "ejbv1bjfUW2J",
      "execution_count": null,
      "outputs": [
        {
          "output_type": "execute_result",
          "data": {
            "text/plain": [
              "1892"
            ]
          },
          "metadata": {},
          "execution_count": 36
        }
      ]
    },
    {
      "cell_type": "code",
      "source": [
        "int(age) / int(araba_plaka)"
      ],
      "metadata": {
        "colab": {
          "base_uri": "https://localhost:8080/"
        },
        "id": "HCoVOEA9Uhk5",
        "outputId": "64da041d-00f4-4993-8152-91fc1142e03f"
      },
      "id": "HCoVOEA9Uhk5",
      "execution_count": null,
      "outputs": [
        {
          "output_type": "execute_result",
          "data": {
            "text/plain": [
              "1.0232558139534884"
            ]
          },
          "metadata": {},
          "execution_count": 37
        }
      ]
    },
    {
      "cell_type": "markdown",
      "id": "060b0bea",
      "metadata": {
        "id": "060b0bea"
      },
      "source": [
        "# 4\n",
        "Kullanıcıdan isim, yaş, şehir ve meslek bilgilerini istenir ve cevaplarını yazdırılır."
      ]
    },
    {
      "cell_type": "code",
      "source": [
        "input(\"Adınız:\")"
      ],
      "metadata": {
        "colab": {
          "base_uri": "https://localhost:8080/",
          "height": 53
        },
        "id": "MTLZvCl2UP7h",
        "outputId": "e81c4f99-4624-416e-c009-b29a2faf8bda"
      },
      "id": "MTLZvCl2UP7h",
      "execution_count": null,
      "outputs": [
        {
          "name": "stdout",
          "output_type": "stream",
          "text": [
            "Adınız:ahsen\n"
          ]
        },
        {
          "output_type": "execute_result",
          "data": {
            "text/plain": [
              "'ahsen'"
            ],
            "application/vnd.google.colaboratory.intrinsic+json": {
              "type": "string"
            }
          },
          "metadata": {},
          "execution_count": 38
        }
      ]
    },
    {
      "cell_type": "code",
      "execution_count": null,
      "id": "6f5dea59",
      "metadata": {
        "colab": {
          "base_uri": "https://localhost:8080/",
          "height": 53
        },
        "id": "6f5dea59",
        "outputId": "bbecd3db-6bec-43fc-b0be-f6e06ed58216"
      },
      "outputs": [
        {
          "name": "stdout",
          "output_type": "stream",
          "text": [
            "yaşınız44\n"
          ]
        },
        {
          "output_type": "execute_result",
          "data": {
            "text/plain": [
              "'44'"
            ],
            "application/vnd.google.colaboratory.intrinsic+json": {
              "type": "string"
            }
          },
          "metadata": {},
          "execution_count": 40
        }
      ],
      "source": [
        "input(\"yaşınız\")"
      ]
    },
    {
      "cell_type": "code",
      "source": [
        "sehir = input(\"yaşadığınız şehir: \")\n",
        "print(sehir)"
      ],
      "metadata": {
        "colab": {
          "base_uri": "https://localhost:8080/"
        },
        "id": "WOfZ37yfUzLi",
        "outputId": "6a0a9696-513d-4259-9e88-e698622b4a12"
      },
      "id": "WOfZ37yfUzLi",
      "execution_count": null,
      "outputs": [
        {
          "output_type": "stream",
          "name": "stdout",
          "text": [
            "yaşadığınız şehir: kütahya\n",
            "kütahya\n"
          ]
        }
      ]
    },
    {
      "cell_type": "code",
      "source": [
        "meslek = input(\"mesleğiniz: \")\n",
        "print(meslek)"
      ],
      "metadata": {
        "colab": {
          "base_uri": "https://localhost:8080/"
        },
        "id": "yS7J-KhZVETX",
        "outputId": "545e463c-bc81-4961-a77f-1b3e8d8921e8"
      },
      "id": "yS7J-KhZVETX",
      "execution_count": null,
      "outputs": [
        {
          "output_type": "stream",
          "name": "stdout",
          "text": [
            "mesleğiniz: akademisyen\n",
            "akademisyen\n"
          ]
        }
      ]
    },
    {
      "cell_type": "markdown",
      "id": "55e1a34e",
      "metadata": {
        "id": "55e1a34e"
      },
      "source": [
        "# 5\n",
        "\"Hi-Kod Veri Bilimi Atölyesi\" ifadesini bir değişkene tanımlanır.\n",
        "\n",
        "\n",
        " 1. İfadedeki her bir kelimeyi (\"Hi-Kod\", \"Veri\", \"Bilimi\", \"Atölyesi\") değişken içinden seçilir.\n",
        " 2. İfadeyi hepsini büyük harf olacak hale çevrilir. (\"HI-KOD VERİ BİLİMİ ATÖLYESİ\")\n",
        " 3. İfadeyi hepsini büyük harf olacak hale çevrilir.(\"hi-kod veri bilimi atölyesi\")\n",
        "\n",
        "\"0123456789\" ifadesindeki yalnızca çift sayıları ve yalnızca tek sayıları seçilir. (\"02468\", \"13579\")"
      ]
    },
    {
      "cell_type": "code",
      "execution_count": null,
      "id": "0fc1bc40",
      "metadata": {
        "id": "0fc1bc40"
      },
      "outputs": [],
      "source": [
        "atolye = \"Hi-Kod Veri Bilimi Atölyesi\""
      ]
    },
    {
      "cell_type": "code",
      "source": [
        "atolye"
      ],
      "metadata": {
        "colab": {
          "base_uri": "https://localhost:8080/",
          "height": 36
        },
        "id": "LtO5A7IkVZbO",
        "outputId": "792bc90e-50bb-478f-fc6f-857d12dda96e"
      },
      "id": "LtO5A7IkVZbO",
      "execution_count": null,
      "outputs": [
        {
          "output_type": "execute_result",
          "data": {
            "text/plain": [
              "'Hi-Kod Veri Bilimi Atölyesi'"
            ],
            "application/vnd.google.colaboratory.intrinsic+json": {
              "type": "string"
            }
          },
          "metadata": {},
          "execution_count": 48
        }
      ]
    },
    {
      "cell_type": "code",
      "source": [
        "atolye.split()"
      ],
      "metadata": {
        "colab": {
          "base_uri": "https://localhost:8080/"
        },
        "id": "T1vxJlHPVhXH",
        "outputId": "51dcd226-7b6d-43c5-d002-1f4f8ab5d5c5"
      },
      "id": "T1vxJlHPVhXH",
      "execution_count": null,
      "outputs": [
        {
          "output_type": "execute_result",
          "data": {
            "text/plain": [
              "['Hi-Kod', 'Veri', 'Bilimi', 'Atölyesi']"
            ]
          },
          "metadata": {},
          "execution_count": 49
        }
      ]
    },
    {
      "cell_type": "code",
      "source": [
        "atolye = atolye.upper()\n",
        "\n",
        "print(atolye)"
      ],
      "metadata": {
        "colab": {
          "base_uri": "https://localhost:8080/"
        },
        "id": "nOGlr_2fWjZa",
        "outputId": "99faa9e6-82e7-482d-9b0a-73a49e4d5a5d"
      },
      "id": "nOGlr_2fWjZa",
      "execution_count": null,
      "outputs": [
        {
          "output_type": "stream",
          "name": "stdout",
          "text": [
            "HI-KOD VERI BILIMI ATÖLYESI\n"
          ]
        }
      ]
    },
    {
      "cell_type": "code",
      "source": [
        "atolye = atolye.lower()\n",
        "\n",
        "print(atolye)"
      ],
      "metadata": {
        "colab": {
          "base_uri": "https://localhost:8080/"
        },
        "id": "J2oy9SZRWmEr",
        "outputId": "2495921f-6c00-472a-c81d-f0c7141fef10"
      },
      "id": "J2oy9SZRWmEr",
      "execution_count": null,
      "outputs": [
        {
          "output_type": "stream",
          "name": "stdout",
          "text": [
            "hi-kod veri bilimi atölyesi\n"
          ]
        }
      ]
    },
    {
      "cell_type": "code",
      "source": [
        "sayi_str = \"0123456789\"\n",
        "\n",
        "ciftler = sayi_str[::2]\n",
        "tekler  = sayi_str[1::2]\n",
        "\n",
        "print(\"Çift sayılar:\", ciftler)\n",
        "print(\"Tek sayılar:\", tekler)"
      ],
      "metadata": {
        "colab": {
          "base_uri": "https://localhost:8080/"
        },
        "id": "z3xNO6bkXDZA",
        "outputId": "a4a69f15-82fb-4f74-cfcd-f5c62d5d9885"
      },
      "id": "z3xNO6bkXDZA",
      "execution_count": null,
      "outputs": [
        {
          "output_type": "stream",
          "name": "stdout",
          "text": [
            "Çift sayılar: 02468\n",
            "Tek sayılar: 13579\n"
          ]
        }
      ]
    }
  ],
  "metadata": {
    "kernelspec": {
      "display_name": "Python 3 (ipykernel)",
      "language": "python",
      "name": "python3"
    },
    "language_info": {
      "codemirror_mode": {
        "name": "ipython",
        "version": 3
      },
      "file_extension": ".py",
      "mimetype": "text/x-python",
      "name": "python",
      "nbconvert_exporter": "python",
      "pygments_lexer": "ipython3",
      "version": "3.9.12"
    },
    "colab": {
      "provenance": [],
      "include_colab_link": true
    }
  },
  "nbformat": 4,
  "nbformat_minor": 5
}