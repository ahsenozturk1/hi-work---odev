{
  "cells": [
    {
      "cell_type": "markdown",
      "metadata": {
        "id": "view-in-github",
        "colab_type": "text"
      },
      "source": [
        "<a href=\"https://colab.research.google.com/github/ahsenozturk1/hi-work---odev/blob/main/Kosul_dongu_odev_ipynb_adl%C4%B1_not_defterinin_kopyas%C4%B1.ipynb\" target=\"_parent\"><img src=\"https://colab.research.google.com/assets/colab-badge.svg\" alt=\"Open In Colab\"/></a>"
      ]
    },
    {
      "cell_type": "markdown",
      "id": "409f0f4a",
      "metadata": {
        "id": "409f0f4a"
      },
      "source": [
        "**Ödev-1:** Kullanıcıdan maaş bilgisini istenir ve bu bilgiye göre maaşından ne kadar vergi kesileceğini hesaplanır. Kullanıcının geliri;\n",
        "\n",
        "1. 10000 ve altındaysa maaşından %5 kesinti olur.\n",
        "2. 25000 ve altındaysa maaşından %10 kesinti olur.\n",
        "3. 45000 ve altındaysa maaşından %25 kesinti olur.\n",
        "4. Diğer koşullarda %30 kesinti olur.\n",
        "\n",
        "Bu durumlara göre kullanıcının yeni maaşı yazdırılır."
      ]
    },
    {
      "cell_type": "code",
      "execution_count": null,
      "id": "5246e510",
      "metadata": {
        "id": "5246e510"
      },
      "outputs": [],
      "source": [
        "maas = float(input(\"Maaşınızı giriniz: \"))\n",
        "\n",
        "if maas <= 10000:\n",
        "    kesinti = maas * 0.05\n",
        "elif maas <= 25000:\n",
        "    kesinti = maas * 0.10\n",
        "elif maas <= 45000:\n",
        "    kesinti = maas * 0.25\n",
        "else:\n",
        "    kesinti = maas * 0.30\n",
        "\n",
        "yeni_maas = maas - kesinti\n",
        "\n",
        "print(\"Maaşınızdan kesilen vergi: \", kesinti)\n",
        "print(\"Kesinti sonrası yeni maaşınız: \", yeni_maas)"
      ]
    },
    {
      "cell_type": "markdown",
      "id": "f5fe8798",
      "metadata": {
        "id": "f5fe8798"
      },
      "source": [
        "**Ödev-2:** Kullanıcıdan kullanıcı adı ve şifre oluşturmasını istenir. Şifrenin uzunluğu altı haneye ulaşmışsa hesabınız oluşturuldu mesajı alınır, altı haneden azsa altı haneli şifre oluşturması gerektiğinin mesajı alınır. *(Sadece koşul kullanılması yeterli.)*"
      ]
    },
    {
      "cell_type": "code",
      "execution_count": null,
      "id": "6acffe57",
      "metadata": {
        "id": "6acffe57"
      },
      "outputs": [],
      "source": [
        "kullanici_adi = input(\"Kullanıcı adınızı oluşturunuz: \")\n",
        "sifre = input(\"Şifrenizi oluşturunuz: \")\n",
        "\n",
        "if len(sifre) >= 6:\n",
        "    print(\"Hesabınız oluşturuldu ✅\")\n",
        "else:\n",
        "    print(\"Şifre en az 6 haneli olmalıdır ❌\")"
      ]
    },
    {
      "cell_type": "markdown",
      "id": "aaccf11a",
      "metadata": {
        "id": "aaccf11a"
      },
      "source": [
        "**Ödev-3:** Bir önceki örnek geliştirilir.\n",
        "\n",
        "1. Kullanıcı girdiği şifre 5 ve 10 hane arasında olmak zorunda.\n",
        "2. Eğer bu koşula uyuyorsa \"Hesabınız oluşturuldu.\" mesajı alır.\n",
        "3. Koşulu sağlamıyorsa \"Lütfen girdiniz şifre 5 haneden az 10 haneden fazla olmasın!\" uyarısı alır.\n",
        "4. Bunu oluştururken kullanıcı istediğimiz şartlarda şifre oluşturana kadar sormaya devam eder"
      ]
    },
    {
      "cell_type": "code",
      "execution_count": null,
      "id": "039e50dc",
      "metadata": {
        "id": "039e50dc"
      },
      "outputs": [],
      "source": [
        "kullanici_adi = input(\"Kullanıcı adınızı oluşturunuz: \")\n",
        "\n",
        "while True:\n",
        "    sifre = input(\"Şifrenizi oluşturunuz (5-10 hane): \")\n",
        "\n",
        "    if 5 <= len(sifre) <= 10:\n",
        "        print(\"Hesabınız oluşturuldu ✅\")\n",
        "        break\n",
        "    else:\n",
        "        print(\"Lütfen girdiniz şifre 5 haneden az veya 10 haneden fazla olmasın! ❌\")"
      ]
    },
    {
      "cell_type": "markdown",
      "id": "8ba81863",
      "metadata": {
        "id": "8ba81863"
      },
      "source": [
        "**Ödev-4:** Kullanıcıdan isim ve şifre isteyeceğiz ve şifre girişi için üç hak verilir.\n",
        "\n",
        "1. Eğer önceden tanımlı şifre ile kullanıcıdan gelen şifre aynıysa \"Giriş yapıldı.\" yazar.\n",
        "2. Şifre girişi yanlışsa \"Yanlış şifre girildi!\" uyarısı verilsin ve üç yanlış denemede program biter.\n",
        "3. Tercihe göre kalan hak bilgisi verilir."
      ]
    },
    {
      "cell_type": "code",
      "execution_count": null,
      "id": "8f45ea0c",
      "metadata": {
        "id": "8f45ea0c"
      },
      "outputs": [],
      "source": [
        "dogru_sifre = \"12345\"\n",
        "\n",
        "kullanici_adi = input(\"Kullanıcı adınızı giriniz: \")\n",
        "\n",
        "hak = 3\n",
        "\n",
        "while hak > 0:\n",
        "    girilen_sifre = input(\"Şifrenizi giriniz: \")\n",
        "\n",
        "    if girilen_sifre == dogru_sifre:\n",
        "        print(\"Giriş yapıldı ✅\")\n",
        "        break\n",
        "    else:\n",
        "        hak -= 1\n",
        "        if hak > 0:\n",
        "            print(f\"Yanlış şifre girildi! Kalan deneme hakkınız: {hak}\")\n",
        "        else:\n",
        "            print(\"Üzgünüz, 3 hakkınızı da kullandınız. Program sonlanıyor ❌\")"
      ]
    }
  ],
  "metadata": {
    "kernelspec": {
      "display_name": "Python 3 (ipykernel)",
      "language": "python",
      "name": "python3"
    },
    "language_info": {
      "codemirror_mode": {
        "name": "ipython",
        "version": 3
      },
      "file_extension": ".py",
      "mimetype": "text/x-python",
      "name": "python",
      "nbconvert_exporter": "python",
      "pygments_lexer": "ipython3",
      "version": "3.9.12"
    },
    "colab": {
      "provenance": [],
      "include_colab_link": true
    }
  },
  "nbformat": 4,
  "nbformat_minor": 5
}