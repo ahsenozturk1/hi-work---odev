{
  "cells": [
    {
      "cell_type": "markdown",
      "id": "032d81b2",
      "metadata": {
        "id": "032d81b2"
      },
      "source": [
        "# 1\n",
        "x = 3 ----> floata çevirelim. Çevirdikten sonra beri tipinide yazdıralım.\n",
        "\n",
        "y = 4.5 -----> integere çevirelim. Çevirdikten sonra beri tipinide yazdıralım.\n",
        "\n",
        "z = \"8\" -----> integera çevirelim. Çevirdikten sonra beri tipinide yazdıralım.\n",
        "\n",
        "a = \"12\" -----> floata çevirelim. Çevirdikten sonra beri tipinide yazdıralım.\n",
        "\n",
        "b = \"46.8\" ------> integera çevirelim. Çevirdikten sonra beri tipinide yazdıralım."
      ]
    },
    {
      "cell_type": "code",
      "execution_count": null,
      "id": "f1b735c0",
      "metadata": {
        "id": "f1b735c0"
      },
      "outputs": [],
      "source": []
    },
    {
      "cell_type": "markdown",
      "id": "95509718",
      "metadata": {
        "id": "95509718"
      },
      "source": [
        "# 2\n",
        "İsimlerden oluşan üç değişkene yaş değerleri atanır. Belirlenen üç değişken birbiriyle karşılaştırma operatörleri ile karşılaştırılır. Bu karşılaştırmalara mantıksal operatörler de eklenir."
      ]
    },
    {
      "cell_type": "code",
      "execution_count": null,
      "id": "50f77b4f",
      "metadata": {
        "id": "50f77b4f"
      },
      "outputs": [],
      "source": []
    },
    {
      "cell_type": "markdown",
      "id": "a1a0eb92",
      "metadata": {
        "id": "a1a0eb92"
      },
      "source": [
        "# 3\n",
        "Kullanıcıdan iki değer girmesini istenir. Girilen değerlerin toplama, çıkarma, çarpma, bölme sonuçlarını yazdırılır."
      ]
    },
    {
      "cell_type": "code",
      "execution_count": null,
      "id": "c361e45a",
      "metadata": {
        "id": "c361e45a"
      },
      "outputs": [],
      "source": []
    },
    {
      "cell_type": "markdown",
      "id": "060b0bea",
      "metadata": {
        "id": "060b0bea"
      },
      "source": [
        "# 4\n",
        "Kullanıcıdan isim, yaş, şehir ve meslek bilgilerini istenir ve cevaplarını yazdırılır."
      ]
    },
    {
      "cell_type": "code",
      "execution_count": null,
      "id": "6f5dea59",
      "metadata": {
        "id": "6f5dea59"
      },
      "outputs": [],
      "source": []
    },
    {
      "cell_type": "markdown",
      "id": "55e1a34e",
      "metadata": {
        "id": "55e1a34e"
      },
      "source": [
        "# 5\n",
        "\"Hi-Kod Veri Bilimi Atölyesi\" ifadesini bir değişkene tanımlanır.\n",
        "\n",
        "\n",
        " 1. İfadedeki her bir kelimeyi (\"Hi-Kod\", \"Veri\", \"Bilimi\", \"Atölyesi\") değişken içinden seçilir.\n",
        " 2. İfadeyi hepsini büyük harf olacak hale çevrilir. (\"HI-KOD VERİ BİLİMİ ATÖLYESİ\")\n",
        " 3. İfadeyi hepsini büyük harf olacak hale çevrilir.(\"hi-kod veri bilimi atölyesi\")\n",
        "\n",
        "\"0123456789\" ifadesindeki yalnızca çift sayıları ve yalnızca tek sayıları seçilir. (\"02468\", \"13579\")"
      ]
    },
    {
      "cell_type": "code",
      "execution_count": null,
      "id": "0fc1bc40",
      "metadata": {
        "id": "0fc1bc40"
      },
      "outputs": [],
      "source": []
    }
  ],
  "metadata": {
    "kernelspec": {
      "display_name": "Python 3 (ipykernel)",
      "language": "python",
      "name": "python3"
    },
    "language_info": {
      "codemirror_mode": {
        "name": "ipython",
        "version": 3
      },
      "file_extension": ".py",
      "mimetype": "text/x-python",
      "name": "python",
      "nbconvert_exporter": "python",
      "pygments_lexer": "ipython3",
      "version": "3.9.12"
    },
    "colab": {
      "provenance": []
    }
  },
  "nbformat": 4,
  "nbformat_minor": 5
}