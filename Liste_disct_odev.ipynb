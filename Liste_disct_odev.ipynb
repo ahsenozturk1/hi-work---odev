{
  "cells": [
    {
      "cell_type": "markdown",
      "metadata": {
        "id": "view-in-github",
        "colab_type": "text"
      },
      "source": [
        "<a href=\"https://colab.research.google.com/github/ahsenozturk1/hi-work---odev/blob/main/Liste_disct_odev.ipynb\" target=\"_parent\"><img src=\"https://colab.research.google.com/assets/colab-badge.svg\" alt=\"Open In Colab\"/></a>"
      ]
    },
    {
      "cell_type": "markdown",
      "metadata": {
        "id": "tE9ZjH5lQn2-"
      },
      "source": [
        "### Ödev 1\n",
        "\n",
        "liste = [\"Python\",True,9,\"3\",8.4,\"Hi-Kod\",\"False\",4.7]\n",
        "\n",
        "1. Aşağıdaki işlemleri indexing ve slicing kullanarak liste üzerinde uygulayın.\n",
        "\n",
        "   - \"3\" değerine ulaşmak için indexleme yapın.\n",
        "   - \"Hi-Kod\" değerine ulaşmak için indexleme yapın.\n",
        "   - 4.7 değerine ulaşmak için indexleme yapın.\n",
        "   - 9,\"3\",8.4,\"Hi-Kod\" değerlerine ulaşmak için slicing yapın.\n",
        "   - 8.4,\"Hi-Kod\",\"False\",4.7 değerlerine ulaşmak için slicing yapın."
      ]
    },
    {
      "cell_type": "code",
      "execution_count": 2,
      "metadata": {
        "id": "AhOkYXjIQn3E",
        "colab": {
          "base_uri": "https://localhost:8080/"
        },
        "outputId": "bbfc4c93-3651-42f7-a16c-893561dc4c32"
      },
      "outputs": [
        {
          "output_type": "stream",
          "name": "stdout",
          "text": [
            "3\n",
            "Hi-Kod\n",
            "4.7\n",
            "[9, '3', 8.4, 'Hi-Kod']\n",
            "[8.4, 'Hi-Kod', 'False', 4.7]\n"
          ]
        }
      ],
      "source": [
        "liste = [\"Python\",True,9,\"3\",8.4,\"Hi-Kod\",\"False\",4.7]\n",
        "1\n",
        "print(liste[3])   # \"3\"\n",
        "\n",
        "2\n",
        "print(liste[5])   # \"Hi-Kod\"\n",
        "\n",
        "3\n",
        "print(liste[7])   # 4.7\n",
        "\n",
        "4\n",
        "print(liste[2:6])  # [9, \"3\", 8.4, \"Hi-Kod\"]\n",
        "\n",
        "5\n",
        "print(liste[4:8])  # [8.4, \"Hi-Kod\", \"False\", 4.7]"
      ]
    },
    {
      "cell_type": "markdown",
      "metadata": {
        "id": "PU_vatZVQn3E"
      },
      "source": [
        "### Ödev 2\n",
        "\n",
        "Verilen listede bulunan string veri tipindeki öğeleri yeni_liste isimli listeye eklenir.\n",
        "\n",
        "liste = [\"Python\",True,9,\"3\",8.4,\"Hi-Kod\",\"False\",4.7]"
      ]
    },
    {
      "cell_type": "code",
      "execution_count": 3,
      "metadata": {
        "id": "k036-a4qQn3F",
        "colab": {
          "base_uri": "https://localhost:8080/"
        },
        "outputId": "e56e753a-a39c-4b88-ab6a-5bd04cd21b7d"
      },
      "outputs": [
        {
          "output_type": "stream",
          "name": "stdout",
          "text": [
            "['Python', '3', 'Hi-Kod', 'False']\n"
          ]
        }
      ],
      "source": [
        "liste = [\"Python\", True, 9, \"3\", 8.4, \"Hi-Kod\", \"False\", 4.7]\n",
        "\n",
        "yeni_liste = []\n",
        "\n",
        "for eleman in liste:\n",
        "    if isinstance(eleman, str):\n",
        "        yeni_liste.append(eleman)\n",
        "\n",
        "print(yeni_liste)"
      ]
    },
    {
      "cell_type": "markdown",
      "metadata": {
        "id": "LKspMidRQn3G"
      },
      "source": [
        "### Ödev 3\n",
        "\n",
        "Enumerate methodunu araştırın ve aşağıdaki örneği enumerate methodu ile yapın."
      ]
    },
    {
      "cell_type": "code",
      "execution_count": null,
      "metadata": {
        "id": "uKwshjmAQn3G"
      },
      "outputs": [],
      "source": [
        "for index in range(len(meyveler)):\n",
        "\n",
        "    print(\"{}. indexte bulunan meyve: {}\".format(index,meyveler[index]))"
      ]
    },
    {
      "cell_type": "code",
      "source": [
        "for index, meyve in enumerate(meyveler):\n",
        "    print(\"{}. indexte bulunan meyve: {}\".format(index, meyve))"
      ],
      "metadata": {
        "id": "Wo0Sp6fOptBU"
      },
      "execution_count": null,
      "outputs": []
    },
    {
      "cell_type": "markdown",
      "metadata": {
        "id": "ZmwK7TWhQn3H"
      },
      "source": [
        "for index, meyve in enumerate(meyveler):\n",
        "    print(\"{}. indexte bulunan meyve: {}\".format(index, meyve))"
      ]
    },
    {
      "cell_type": "markdown",
      "source": [
        "## Sozluk"
      ],
      "metadata": {
        "id": "M_DfcqxXQubL"
      }
    },
    {
      "cell_type": "markdown",
      "source": [
        "1. Bir sözlük oluşturulur ve bu sözlükte öğrencilerin isimleri ve Matematik, Fizik, Kimya notları tutulur. Kullanıcıdan isim ve ders ismi(Matematik, Fizik, Kimya) istenir ve bu bilgilere göre çıktı verilir."
      ],
      "metadata": {
        "id": "ZMXFFucEQxxD"
      }
    },
    {
      "cell_type": "markdown",
      "source": [
        "2. Sözlük üzerinde değerleri değiştirme, yeni değer ekleme, kullanıcıya ulaşmak istediği bilgileri sorma gibi uygulamalar yapın."
      ],
      "metadata": {
        "id": "8NJYTepzQ13V"
      }
    },
    {
      "cell_type": "code",
      "source": [
        "notlar = {\n",
        "    \"Ahmet\": {\"Matematik\": 80, \"Fizik\": 75, \"Kimya\": 90},\n",
        "    \"Ayşe\": {\"Matematik\": 95, \"Fizik\": 85, \"Kimya\": 88},\n",
        "    \"Mehmet\": {\"Matematik\": 70, \"Fizik\": 60, \"Kimya\": 78}\n",
        "}\n",
        "\n",
        "isim = input(\"Öğrencinin ismini giriniz: \")\n",
        "ders = input(\"Hangi dersin notunu öğrenmek istiyorsunuz? (Matematik/Fizik/Kimya): \")\n",
        "\n",
        "if isim in notlar:  # isim sözlükte var mı?\n",
        "    if ders in notlar[isim]:  # ders o öğrencide var mı?\n",
        "        print(f\"{isim} öğrencisinin {ders} notu: {notlar[isim][ders]}\")\n",
        "    else:\n",
        "        print(\"Geçersiz ders adı!\")\n",
        "else:\n",
        "    print(\"Öğrenci bulunamadı!\")"
      ],
      "metadata": {
        "id": "Sl7EK7FDQsW1",
        "colab": {
          "base_uri": "https://localhost:8080/"
        },
        "outputId": "2ffe78de-e5c3-4e65-94c3-09674f974f1b"
      },
      "execution_count": 6,
      "outputs": [
        {
          "output_type": "stream",
          "name": "stdout",
          "text": [
            "Öğrencinin ismini giriniz: Ahmet\n",
            "Hangi dersin notunu öğrenmek istiyorsunuz? (Matematik/Fizik/Kimya): Kimya\n",
            "Ahmet öğrencisinin Kimya notu: 90\n"
          ]
        }
      ]
    },
    {
      "cell_type": "code",
      "source": [
        "notlar = {\n",
        "    \"Ahmet\": {\"Matematik\": 80, \"Fizik\": 75, \"Kimya\": 90},\n",
        "    \"Ayşe\": {\"Matematik\": 95, \"Fizik\": 85, \"Kimya\": 88},\n",
        "    \"Mehmet\": {\"Matematik\": 70, \"Fizik\": 60, \"Kimya\": 78}\n",
        "}\n",
        "\n",
        "while True:\n",
        "    print(\"\\n--- Menü ---\")\n",
        "    print(\"1 - Öğrencinin notunu görüntüle\")\n",
        "    print(\"2 - Öğrencinin notunu güncelle\")\n",
        "    print(\"3 - Yeni öğrenci ekle\")\n",
        "    print(\"4 - Çıkış\")\n",
        "\n",
        "    secim = input(\"Seçiminizi yapın: \")\n",
        "\n",
        "    if secim == \"1\":\n",
        "        isim = input(\"Öğrenci adı: \")\n",
        "        ders = input(\"Ders adı (Matematik/Fizik/Kimya): \")\n",
        "        if isim in notlar and ders in notlar[isim]:\n",
        "            print(f\"{isim} öğrencisinin {ders} notu: {notlar[isim][ders]}\")\n",
        "        else:\n",
        "            print(\"Bilgi bulunamadı!\")\n",
        "\n",
        "    elif secim == \"2\":\n",
        "        isim = input(\"Öğrenci adı: \")\n",
        "        ders = input(\"Ders adı (Matematik/Fizik/Kimya): \")\n",
        "        if isim in notlar and ders in notlar[isim]:\n",
        "            yeni_not = int(input(\"Yeni notu giriniz: \"))\n",
        "            notlar[isim][ders] = yeni_not  # Güncelleme işlemi\n",
        "            print(f\"{isim} öğrencisinin {ders} notu güncellendi: {yeni_not}\")\n",
        "        else:\n",
        "            print(\"Bilgi bulunamadı!\")\n",
        "\n",
        "    elif secim == \"3\":\n",
        "        isim = input(\"Yeni öğrencinin adı: \")\n",
        "        mat = int(input(\"Matematik notu: \"))\n",
        "        fiz = int(input(\"Fizik notu: \"))\n",
        "        kim = int(input(\"Kimya notu: \"))\n",
        "        notlar[isim] = {\"Matematik\": mat, \"Fizik\": fiz, \"Kimya\": kim}  # Yeni ekleme\n",
        "        print(f\"{isim} isimli öğrenci eklendi.\")\n",
        "\n",
        "    elif secim == \"4\":\n",
        "        print(\"Çıkış yapılıyor...\")\n",
        "        break\n",
        "\n",
        "    else:\n",
        "        print(\"Hatalı seçim!\")"
      ],
      "metadata": {
        "id": "U2s2oy7FqraZ"
      },
      "execution_count": null,
      "outputs": []
    }
  ],
  "metadata": {
    "language_info": {
      "name": "python"
    },
    "colab": {
      "provenance": [],
      "include_colab_link": true
    },
    "kernelspec": {
      "name": "python3",
      "display_name": "Python 3"
    }
  },
  "nbformat": 4,
  "nbformat_minor": 0
}