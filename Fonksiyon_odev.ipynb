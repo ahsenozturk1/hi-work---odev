{
  "cells": [
    {
      "cell_type": "markdown",
      "metadata": {
        "id": "view-in-github",
        "colab_type": "text"
      },
      "source": [
        "<a href=\"https://colab.research.google.com/github/ahsenozturk1/hi-work---odev/blob/main/Fonksiyon_odev.ipynb\" target=\"_parent\"><img src=\"https://colab.research.google.com/assets/colab-badge.svg\" alt=\"Open In Colab\"/></a>"
      ]
    },
    {
      "cell_type": "markdown",
      "metadata": {
        "id": "pfJdfbDVR4Me"
      },
      "source": [
        "#### Ödev 1\n",
        "Kullanıcıdan pi değeri ve yarıçap bilgisi alarak dairenin alanını hesaplayan bir fonksiyon oluşturulur."
      ]
    },
    {
      "cell_type": "code",
      "execution_count": null,
      "metadata": {
        "vscode": {
          "languageId": "plaintext"
        },
        "colab": {
          "base_uri": "https://localhost:8080/"
        },
        "id": "8x4YmurOR4Mg",
        "outputId": "bc76bc6b-e65d-430d-ac09-8f3866de150e"
      },
      "outputs": [
        {
          "output_type": "stream",
          "name": "stdout",
          "text": [
            "Pi değerini giriniz (örn: 3.14): 3.14\n",
            "Dairenin yarıçapını giriniz: 5\n",
            "Dairenin alanı: 78.5\n"
          ]
        }
      ],
      "source": [
        "def daire_alani(pi, yaricap):\n",
        "    alan = pi * yaricap ** 2\n",
        "    return alan\n",
        "\n",
        "pi = float(input(\"Pi değerini giriniz (örn: 3.14): \"))\n",
        "yaricap = float(input(\"Dairenin yarıçapını giriniz: \"))\n",
        "\n",
        "print(\"Dairenin alanı:\", daire_alani(pi, yaricap))"
      ]
    },
    {
      "cell_type": "markdown",
      "metadata": {
        "id": "7AYjuQ54R4Mg"
      },
      "source": [
        "#### Ödev 2\n",
        "\n",
        "Faktöriyel adında fonksiyon oluşturulur. Döngü kullanarak parametre olarak girilen sayının faktöriyeli hesaplanır. Format metodunu kullanılarak ekrana yazdırılır."
      ]
    },
    {
      "cell_type": "code",
      "execution_count": null,
      "metadata": {
        "vscode": {
          "languageId": "plaintext"
        },
        "colab": {
          "base_uri": "https://localhost:8080/"
        },
        "id": "BD1fyaHFR4Mh",
        "outputId": "619d7c2c-3b59-45ae-d4ac-32b262d4bb17"
      },
      "outputs": [
        {
          "output_type": "stream",
          "name": "stdout",
          "text": [
            "5. sayının faktöriyeli: 120\n"
          ]
        }
      ],
      "source": [
        "def faktoriyel(sayi):\n",
        "    sonuc = 1\n",
        "    for i in range(1, sayi + 1):\n",
        "        sonuc *= i\n",
        "    print(\"{}. sayının faktöriyeli: {}\".format(sayi, sonuc))\n",
        "faktoriyel(5)"
      ]
    },
    {
      "cell_type": "markdown",
      "metadata": {
        "id": "M87coj66R4Mh"
      },
      "source": [
        "#### Ödev 3\n",
        "Kişinin fonksiyona doğum yılını vererek kaç yaşında olduğunu hesaplayan bir fonksiyon oluşturun."
      ]
    },
    {
      "cell_type": "code",
      "execution_count": null,
      "metadata": {
        "vscode": {
          "languageId": "plaintext"
        },
        "id": "P_qwFSACR4Mi"
      },
      "outputs": [],
      "source": [
        "from datetime import date\n",
        "\n",
        "def yas_hesapla(dogum_yili):\n",
        "    suanki_yil = date.today().year\n",
        "    yas = suanki_yil - dogum_yili\n",
        "    return yas\n",
        "\n",
        "dogum_yili = int(input(\"Doğum yılınızı giriniz: \"))\n",
        "\n",
        "print(\"Yaşınız:\", yas_hesapla(dogum_yili))"
      ]
    },
    {
      "cell_type": "markdown",
      "metadata": {
        "id": "jo1aO7-wR4Mi"
      },
      "source": [
        "#### Ödev 4\n",
        "\n",
        "Doğum yılı ve isim bilgisi verilen fonksiyon kişinin emekli olup olmadığını söylesin.(Kişi 65 yaşında ise emekli olur.) Burada yaş hesabını yukarıdaki örnekteki fonksiyonu kullanarak yapsın.(Yani fonksiyon içinde fonksiyon kullanmanızı istiyorum :)) Kişi 65 yaşında ya da daha fazlaysa \"Emekli oldunuz\" yanıtını, 65 yaşından küçükse emekliliğine kaç yıl kaldığını da hesaplayarak \"(isim) emekliliğine (yıl) kaldı.\" yanıtını versin."
      ]
    },
    {
      "cell_type": "code",
      "execution_count": 7,
      "metadata": {
        "vscode": {
          "languageId": "plaintext"
        },
        "id": "tdLZCOwQR4Mj",
        "colab": {
          "base_uri": "https://localhost:8080/"
        },
        "outputId": "5303632a-6422-48cf-c14f-eb4cdae1aeca"
      },
      "outputs": [
        {
          "output_type": "stream",
          "name": "stdout",
          "text": [
            "Adınızı giriniz: ahsen\n",
            "Doğum yılınızı giriniz: 1981\n",
            "ahsen emekliliğine 21 yıl kaldı.\n"
          ]
        }
      ],
      "source": [
        "from datetime import date\n",
        "\n",
        "\n",
        "def yas_hesapla(dogum_yili):\n",
        "    suanki_yil = date.today().year\n",
        "    yas = suanki_yil - dogum_yili\n",
        "    return yas\n",
        "\n",
        "def emeklilik_durumu(isim, dogum_yili):\n",
        "    yas = yas_hesapla(dogum_yili)\n",
        "    emekli_yas = 65\n",
        "\n",
        "    if yas >= emekli_yas:\n",
        "        print(\"Emekli oldunuz ✅\")\n",
        "    else:\n",
        "        kalan_yil = emekli_yas - yas\n",
        "        print(f\"{isim} emekliliğine {kalan_yil} yıl kaldı.\")\n",
        "\n",
        "isim = input(\"Adınızı giriniz: \")\n",
        "dogum_yili = int(input(\"Doğum yılınızı giriniz: \"))\n",
        "\n",
        "emeklilik_durumu(isim, dogum_yili)"
      ]
    }
  ],
  "metadata": {
    "language_info": {
      "name": "python"
    },
    "colab": {
      "provenance": [],
      "include_colab_link": true
    },
    "kernelspec": {
      "name": "python3",
      "display_name": "Python 3"
    }
  },
  "nbformat": 4,
  "nbformat_minor": 0
}