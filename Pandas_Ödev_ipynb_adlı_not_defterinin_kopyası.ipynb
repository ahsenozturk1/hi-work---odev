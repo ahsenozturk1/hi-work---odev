{
  "cells": [
    {
      "cell_type": "markdown",
      "metadata": {
        "id": "view-in-github",
        "colab_type": "text"
      },
      "source": [
        "<a href=\"https://colab.research.google.com/github/ahsenozturk1/hi-work---odev/blob/main/Pandas_%C3%96dev_ipynb_adl%C4%B1_not_defterinin_kopyas%C4%B1.ipynb\" target=\"_parent\"><img src=\"https://colab.research.google.com/assets/colab-badge.svg\" alt=\"Open In Colab\"/></a>"
      ]
    },
    {
      "cell_type": "code",
      "execution_count": null,
      "id": "e3632fbc",
      "metadata": {
        "id": "e3632fbc"
      },
      "outputs": [],
      "source": [
        "sozluk = {\"Kategori\": [\"Giyim\",\"Giyim\", \"Ayakkabı\",\"Aksesuar\",\"Ayakkabı\",\"Giyim\",\"Aksesuar\",\"Aksesuar\",\"Ayakkabı\",\"Giyim\"],\n",
        "         \"Ürün\" : [\"Kazak\",\"T-shirt\",\"Sandalet\",\"Küpe\",\"Spor Ayakkabı\",\"Pantolon\",\"Kolye\",\"Yüzük\",\"Çizme\",\"Ceket\"],\n",
        "         \"Fiyat\" : [300,180,450,50,700,400,150,80,850,900]}"
      ]
    },
    {
      "cell_type": "markdown",
      "id": "e380a30f",
      "metadata": {
        "id": "e380a30f"
      },
      "source": [
        "##### 1. Yukarıdaki sözlüğü bir DataFrame haline getirin."
      ]
    },
    {
      "cell_type": "code",
      "execution_count": null,
      "id": "fa7a1757",
      "metadata": {
        "colab": {
          "base_uri": "https://localhost:8080/"
        },
        "id": "fa7a1757",
        "outputId": "31512ef7-fceb-475e-c816-778f356f036a"
      },
      "outputs": [
        {
          "output_type": "stream",
          "name": "stdout",
          "text": [
            "   Kategori           Ürün  Fiyat\n",
            "0     Giyim          Kazak    300\n",
            "1     Giyim        T-shirt    180\n",
            "2  Ayakkabı       Sandalet    450\n",
            "3  Aksesuar           Küpe     50\n",
            "4  Ayakkabı  Spor Ayakkabı    700\n",
            "5     Giyim       Pantolon    400\n",
            "6  Aksesuar          Kolye    150\n",
            "7  Aksesuar          Yüzük     80\n",
            "8  Ayakkabı          Çizme    850\n",
            "9     Giyim          Ceket    900\n"
          ]
        }
      ],
      "source": [
        "import pandas as pd\n",
        "\n",
        "sozluk = {\n",
        "    \"Kategori\": [\"Giyim\",\"Giyim\", \"Ayakkabı\",\"Aksesuar\",\"Ayakkabı\",\"Giyim\",\"Aksesuar\",\"Aksesuar\",\"Ayakkabı\",\"Giyim\"],\n",
        "    \"Ürün\" : [\"Kazak\",\"T-shirt\",\"Sandalet\",\"Küpe\",\"Spor Ayakkabı\",\"Pantolon\",\"Kolye\",\"Yüzük\",\"Çizme\",\"Ceket\"],\n",
        "    \"Fiyat\" : [300,180,450,50,700,400,150,80,850,900]\n",
        "}\n",
        "\n",
        "df = pd.DataFrame(sozluk)\n",
        "\n",
        "print(df)"
      ]
    },
    {
      "cell_type": "markdown",
      "id": "fe81a0e9",
      "metadata": {
        "id": "fe81a0e9"
      },
      "source": [
        "##### 2. Aşağıdaki işlemleri dataframe üzerinde uygulayalım.\n",
        "- 2.indexde bulunan kategoriyi bulalım (Sadece kategori bilgisi)\n",
        "- 2.indexde bulunan ürünü bulalım (Sadece ürün bilgisi)\n",
        "- 4.indexden 9.indexe kadar olan verileri bulalım (Kategori,ürün,fiyat bilgisi beraber)\n",
        "- 1.indexden 6.indexe kadar olan ürünleri bulalım (Sadece ürün bilgisi)\n"
      ]
    },
    {
      "cell_type": "code",
      "execution_count": null,
      "id": "2baa9073",
      "metadata": {
        "colab": {
          "base_uri": "https://localhost:8080/"
        },
        "id": "2baa9073",
        "outputId": "dd028c71-f40c-44a4-ef20-535ac244b0d7"
      },
      "outputs": [
        {
          "output_type": "stream",
          "name": "stdout",
          "text": [
            "2. indexdeki kategori: Ayakkabı\n",
            "2. indexdeki ürün: Sandalet\n",
            "\n",
            "4'ten 9'a kadar olan veriler:\n",
            "   Kategori           Ürün  Fiyat\n",
            "4  Ayakkabı  Spor Ayakkabı    700\n",
            "5     Giyim       Pantolon    400\n",
            "6  Aksesuar          Kolye    150\n",
            "7  Aksesuar          Yüzük     80\n",
            "8  Ayakkabı          Çizme    850\n",
            "9     Giyim          Ceket    900\n",
            "\n",
            "1'den 6'ya kadar olan ürünler:\n",
            "1          T-shirt\n",
            "2         Sandalet\n",
            "3             Küpe\n",
            "4    Spor Ayakkabı\n",
            "5         Pantolon\n",
            "6            Kolye\n",
            "Name: Ürün, dtype: object\n"
          ]
        }
      ],
      "source": [
        "import pandas as pd\n",
        "\n",
        "sozluk = {\n",
        "    \"Kategori\": [\"Giyim\",\"Giyim\", \"Ayakkabı\",\"Aksesuar\",\"Ayakkabı\",\"Giyim\",\"Aksesuar\",\"Aksesuar\",\"Ayakkabı\",\"Giyim\"],\n",
        "    \"Ürün\" : [\"Kazak\",\"T-shirt\",\"Sandalet\",\"Küpe\",\"Spor Ayakkabı\",\"Pantolon\",\"Kolye\",\"Yüzük\",\"Çizme\",\"Ceket\"],\n",
        "    \"Fiyat\" : [300,180,450,50,700,400,150,80,850,900]\n",
        "}\n",
        "\n",
        "df = pd.DataFrame(sozluk)\n",
        "\n",
        "kategori_2 = df.loc[2, \"Kategori\"]\n",
        "print(f\"2. indexdeki kategori: {kategori_2}\")\n",
        "\n",
        "urun_2 = df.loc[2, \"Ürün\"]\n",
        "print(f\"2. indexdeki ürün: {urun_2}\")\n",
        "\n",
        "veri_4_9 = df.loc[4:9]\n",
        "print(f\"\\n4'ten 9'a kadar olan veriler:\\n{veri_4_9}\")\n",
        "\n",
        "urun_1_6 = df.loc[1:6, \"Ürün\"]\n",
        "print(f\"\\n1'den 6'ya kadar olan ürünler:\\n{urun_1_6}\")"
      ]
    },
    {
      "cell_type": "markdown",
      "id": "18d5e3a5",
      "metadata": {
        "id": "18d5e3a5"
      },
      "source": [
        "##### 3. Aşağıdaki işlemleri dataframe üzerinde uygulayalım.\n",
        "- Giyim kategorisinde bulunan ürünleri gösterin\n",
        "- Ayakkabı kategorisinde bulunan ürünleri gösterin\n",
        "- Aksesuar kategorisinde bulunan ürünleri gösterin"
      ]
    },
    {
      "cell_type": "code",
      "execution_count": 4,
      "id": "c12f603a",
      "metadata": {
        "id": "c12f603a",
        "colab": {
          "base_uri": "https://localhost:8080/"
        },
        "outputId": "f1895757-a38c-4750-e34a-7215c84871bd"
      },
      "outputs": [
        {
          "output_type": "stream",
          "name": "stdout",
          "text": [
            "['Kazak', 'T-shirt', 'Pantolon', 'Ceket']\n"
          ]
        }
      ],
      "source": [
        "giyim_urunler = df[df[\"Kategori\"] == \"Giyim\"][\"Ürün\"]\n",
        "print(giyim_urunler.tolist())"
      ]
    },
    {
      "cell_type": "code",
      "source": [
        "ayakkabi_urunler = df[df[\"Kategori\"] == \"Ayakkabı\"][\"Ürün\"]\n",
        "print(ayakkabi_urunler.tolist())"
      ],
      "metadata": {
        "colab": {
          "base_uri": "https://localhost:8080/"
        },
        "id": "-L7xnAI3oPOI",
        "outputId": "9e5e2ef8-fe70-41a3-cc2d-76fc45d9a032"
      },
      "id": "-L7xnAI3oPOI",
      "execution_count": 5,
      "outputs": [
        {
          "output_type": "stream",
          "name": "stdout",
          "text": [
            "['Sandalet', 'Spor Ayakkabı', 'Çizme']\n"
          ]
        }
      ]
    },
    {
      "cell_type": "code",
      "source": [
        "aksesuar_urunler = df[df[\"Kategori\"] == \"Aksesuar\"][\"Ürün\"]\n",
        "print(aksesuar_urunler.tolist())"
      ],
      "metadata": {
        "colab": {
          "base_uri": "https://localhost:8080/"
        },
        "id": "dDUonz_noTf4",
        "outputId": "2b58a4e2-819c-444b-d3e3-1dca778f19cf"
      },
      "id": "dDUonz_noTf4",
      "execution_count": 6,
      "outputs": [
        {
          "output_type": "stream",
          "name": "stdout",
          "text": [
            "['Küpe', 'Kolye', 'Yüzük']\n"
          ]
        }
      ]
    },
    {
      "cell_type": "markdown",
      "id": "5c31302a",
      "metadata": {
        "id": "5c31302a"
      },
      "source": [
        "##### 4 Aşağıdaki işlemleri dataframe üzerinde uygulayalım.\n",
        "- Giyim kategorisinde fiyatı 300'den fazla olan ürünleri gösterin\n",
        "- Ayakkabı kategorisinde fiyatı 600'den az olan ürünleri gösterin\n",
        "- Aksesuar kategorisinde fiyatı 100'den fazla olan aksesuarı gösterin"
      ]
    },
    {
      "cell_type": "code",
      "execution_count": 7,
      "id": "cc96c65b",
      "metadata": {
        "id": "cc96c65b",
        "colab": {
          "base_uri": "https://localhost:8080/"
        },
        "outputId": "9ebf7a48-58a7-4fe3-b0ce-337538f6257b"
      },
      "outputs": [
        {
          "output_type": "stream",
          "name": "stdout",
          "text": [
            "       Ürün  Fiyat\n",
            "5  Pantolon    400\n",
            "9     Ceket    900\n"
          ]
        }
      ],
      "source": [
        "giyim_filt = df[(df[\"Kategori\"] == \"Giyim\") & (df[\"Fiyat\"] > 300)]\n",
        "print(giyim_filt[[\"Ürün\", \"Fiyat\"]])"
      ]
    },
    {
      "cell_type": "code",
      "source": [
        "ayakkabi_filt = df[(df[\"Kategori\"] == \"Ayakkabı\") & (df[\"Fiyat\"] < 600)]\n",
        "print(ayakkabi_filt[[\"Ürün\", \"Fiyat\"]])"
      ],
      "metadata": {
        "colab": {
          "base_uri": "https://localhost:8080/"
        },
        "id": "5XkTdDsjojO4",
        "outputId": "4d1f888f-af65-49e4-eb21-96819dd32018"
      },
      "id": "5XkTdDsjojO4",
      "execution_count": 8,
      "outputs": [
        {
          "output_type": "stream",
          "name": "stdout",
          "text": [
            "       Ürün  Fiyat\n",
            "2  Sandalet    450\n"
          ]
        }
      ]
    },
    {
      "cell_type": "code",
      "source": [
        "aksesuar_filt = df[(df[\"Kategori\"] == \"Aksesuar\") & (df[\"Fiyat\"] > 100)]\n",
        "print(aksesuar_filt[[\"Ürün\", \"Fiyat\"]])"
      ],
      "metadata": {
        "colab": {
          "base_uri": "https://localhost:8080/"
        },
        "id": "WopKywHEol9o",
        "outputId": "ffd03978-9d28-4725-9aaf-883bc51feda5"
      },
      "id": "WopKywHEol9o",
      "execution_count": 9,
      "outputs": [
        {
          "output_type": "stream",
          "name": "stdout",
          "text": [
            "    Ürün  Fiyat\n",
            "6  Kolye    150\n"
          ]
        }
      ]
    }
  ],
  "metadata": {
    "kernelspec": {
      "display_name": "Python 3 (ipykernel)",
      "language": "python",
      "name": "python3"
    },
    "language_info": {
      "codemirror_mode": {
        "name": "ipython",
        "version": 3
      },
      "file_extension": ".py",
      "mimetype": "text/x-python",
      "name": "python",
      "nbconvert_exporter": "python",
      "pygments_lexer": "ipython3",
      "version": "3.9.12"
    },
    "colab": {
      "provenance": [],
      "include_colab_link": true
    }
  },
  "nbformat": 4,
  "nbformat_minor": 5
}