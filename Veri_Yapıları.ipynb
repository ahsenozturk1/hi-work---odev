{
  "cells": [
    {
      "cell_type": "markdown",
      "metadata": {
        "id": "view-in-github",
        "colab_type": "text"
      },
      "source": [
        "<a href=\"https://colab.research.google.com/github/ahsenozturk1/hi-work---odev/blob/main/Veri_Yap%C4%B1lar%C4%B1.ipynb\" target=\"_parent\"><img src=\"https://colab.research.google.com/assets/colab-badge.svg\" alt=\"Open In Colab\"/></a>"
      ]
    },
    {
      "cell_type": "markdown",
      "id": "db568b0a",
      "metadata": {
        "id": "db568b0a"
      },
      "source": [
        "# Data Types"
      ]
    },
    {
      "cell_type": "code",
      "execution_count": null,
      "id": "df374bb9",
      "metadata": {
        "colab": {
          "base_uri": "https://localhost:8080/"
        },
        "id": "df374bb9",
        "outputId": "0c02a329-6283-4adf-d64b-34f4922b149e"
      },
      "outputs": [
        {
          "output_type": "stream",
          "name": "stdout",
          "text": [
            "5\n"
          ]
        }
      ],
      "source": [
        "print(5)"
      ]
    },
    {
      "cell_type": "markdown",
      "id": "05243c86",
      "metadata": {
        "id": "05243c86"
      },
      "source": [
        "Veri tipi bir verinin ne tür bir bilgi olduğunu belirtir. Yani bir verinin tam sayı, ondalıklı sayı, yazı ya da True/False olduğu veri tipinden anlaşılır.\n",
        "\n",
        "- Integer\n",
        "- String\n",
        "- Float\n",
        "- Boollean"
      ]
    },
    {
      "cell_type": "code",
      "execution_count": null,
      "id": "d5f3e588",
      "metadata": {
        "id": "d5f3e588"
      },
      "outputs": [],
      "source": [
        "print(\"Hello World\")"
      ]
    },
    {
      "cell_type": "code",
      "execution_count": null,
      "id": "25c0285c",
      "metadata": {
        "id": "25c0285c"
      },
      "outputs": [],
      "source": [
        "print(4.6)"
      ]
    },
    {
      "cell_type": "code",
      "execution_count": null,
      "id": "07873292",
      "metadata": {
        "id": "07873292"
      },
      "outputs": [],
      "source": [
        "1/10"
      ]
    },
    {
      "cell_type": "code",
      "execution_count": null,
      "id": "c81dc9c8",
      "metadata": {
        "colab": {
          "base_uri": "https://localhost:8080/"
        },
        "id": "c81dc9c8",
        "outputId": "2ddc78ad-0f0f-456a-f681-01c5cb86ea9a"
      },
      "outputs": [
        {
          "output_type": "stream",
          "name": "stdout",
          "text": [
            "True\n"
          ]
        }
      ],
      "source": [
        "print(True)"
      ]
    },
    {
      "cell_type": "markdown",
      "id": "9f0b6edc",
      "metadata": {
        "id": "9f0b6edc"
      },
      "source": [
        "- **type()** fonksiyonu bir verinin hangi veri tipine ait olduğunu belirtir."
      ]
    },
    {
      "cell_type": "code",
      "execution_count": null,
      "id": "5272f2bf",
      "metadata": {
        "colab": {
          "base_uri": "https://localhost:8080/"
        },
        "id": "5272f2bf",
        "outputId": "1b7ffac4-ee3d-43c7-c343-a544beb2d41b"
      },
      "outputs": [
        {
          "output_type": "execute_result",
          "data": {
            "text/plain": [
              "int"
            ]
          },
          "metadata": {},
          "execution_count": 2
        }
      ],
      "source": [
        "type(5)"
      ]
    },
    {
      "cell_type": "code",
      "execution_count": null,
      "id": "b3afb450",
      "metadata": {
        "colab": {
          "base_uri": "https://localhost:8080/"
        },
        "id": "b3afb450",
        "outputId": "39e98d55-4ea1-43e6-b9ac-b6110a02cdaa"
      },
      "outputs": [
        {
          "output_type": "execute_result",
          "data": {
            "text/plain": [
              "str"
            ]
          },
          "metadata": {},
          "execution_count": 3
        }
      ],
      "source": [
        "type(\"Hello World\")"
      ]
    },
    {
      "cell_type": "code",
      "execution_count": null,
      "id": "70120de4",
      "metadata": {
        "colab": {
          "base_uri": "https://localhost:8080/"
        },
        "id": "70120de4",
        "outputId": "9d70c202-354d-457c-9634-8054817ac55d"
      },
      "outputs": [
        {
          "output_type": "execute_result",
          "data": {
            "text/plain": [
              "float"
            ]
          },
          "metadata": {},
          "execution_count": 4
        }
      ],
      "source": [
        "type(4.6)"
      ]
    },
    {
      "cell_type": "code",
      "execution_count": null,
      "id": "05db7fca",
      "metadata": {
        "colab": {
          "base_uri": "https://localhost:8080/"
        },
        "id": "05db7fca",
        "outputId": "f5b82f8f-b94e-4aa7-8c2f-6647138a63dd"
      },
      "outputs": [
        {
          "output_type": "execute_result",
          "data": {
            "text/plain": [
              "bool"
            ]
          },
          "metadata": {},
          "execution_count": 5
        }
      ],
      "source": [
        "type(True)"
      ]
    },
    {
      "cell_type": "code",
      "execution_count": null,
      "id": "18bd599f",
      "metadata": {
        "colab": {
          "base_uri": "https://localhost:8080/"
        },
        "id": "18bd599f",
        "outputId": "957ed2b1-224d-4224-dc6d-13cf9bcd56e1"
      },
      "outputs": [
        {
          "output_type": "execute_result",
          "data": {
            "text/plain": [
              "str"
            ]
          },
          "metadata": {},
          "execution_count": 6
        }
      ],
      "source": [
        "type(\"5\")"
      ]
    },
    {
      "cell_type": "markdown",
      "id": "464ca5cc",
      "metadata": {
        "id": "464ca5cc"
      },
      "source": [
        "- Veri tipleri arasında dönüşüm yapılabilir."
      ]
    },
    {
      "cell_type": "code",
      "execution_count": null,
      "id": "21aa92c9",
      "metadata": {
        "colab": {
          "base_uri": "https://localhost:8080/"
        },
        "id": "21aa92c9",
        "outputId": "d385aba7-1176-4954-a0d1-deab3d06cc51"
      },
      "outputs": [
        {
          "output_type": "execute_result",
          "data": {
            "text/plain": [
              "5.0"
            ]
          },
          "metadata": {},
          "execution_count": 8
        }
      ],
      "source": [
        "float(5)"
      ]
    },
    {
      "cell_type": "code",
      "execution_count": null,
      "id": "a436dd12",
      "metadata": {
        "colab": {
          "base_uri": "https://localhost:8080/"
        },
        "id": "a436dd12",
        "outputId": "a26dd643-bbff-4752-e0ce-efddcaaf620b"
      },
      "outputs": [
        {
          "output_type": "execute_result",
          "data": {
            "text/plain": [
              "5"
            ]
          },
          "metadata": {},
          "execution_count": 9
        }
      ],
      "source": [
        "int(5.4)"
      ]
    },
    {
      "cell_type": "code",
      "execution_count": null,
      "id": "4be53098",
      "metadata": {
        "colab": {
          "base_uri": "https://localhost:8080/"
        },
        "id": "4be53098",
        "outputId": "dc5768f7-6d7e-4796-fed3-99d2aff1c567"
      },
      "outputs": [
        {
          "output_type": "execute_result",
          "data": {
            "text/plain": [
              "5"
            ]
          },
          "metadata": {},
          "execution_count": 10
        }
      ],
      "source": [
        "int(\"5\")"
      ]
    },
    {
      "cell_type": "code",
      "execution_count": null,
      "id": "84cc2634",
      "metadata": {
        "colab": {
          "base_uri": "https://localhost:8080/",
          "height": 141
        },
        "id": "84cc2634",
        "outputId": "8bd1a4ed-5bc1-47d6-cefd-264e5739e85a"
      },
      "outputs": [
        {
          "output_type": "error",
          "ename": "ValueError",
          "evalue": "invalid literal for int() with base 10: '5.6'",
          "traceback": [
            "\u001b[0;31m---------------------------------------------------------------------------\u001b[0m",
            "\u001b[0;31mValueError\u001b[0m                                Traceback (most recent call last)",
            "\u001b[0;32m/tmp/ipython-input-2113063471.py\u001b[0m in \u001b[0;36m<cell line: 0>\u001b[0;34m()\u001b[0m\n\u001b[0;32m----> 1\u001b[0;31m \u001b[0mint\u001b[0m\u001b[0;34m(\u001b[0m\u001b[0;34m\"5.6\"\u001b[0m\u001b[0;34m)\u001b[0m\u001b[0;34m\u001b[0m\u001b[0;34m\u001b[0m\u001b[0m\n\u001b[0m",
            "\u001b[0;31mValueError\u001b[0m: invalid literal for int() with base 10: '5.6'"
          ]
        }
      ],
      "source": [
        "int(\"5.6\")"
      ]
    },
    {
      "cell_type": "code",
      "metadata": {
        "colab": {
          "base_uri": "https://localhost:8080/"
        },
        "id": "be797d1a",
        "outputId": "1657fe77-4fe1-4c5e-ae93-8b65480a8c17"
      },
      "source": [
        "float(\"5.6\")"
      ],
      "id": "be797d1a",
      "execution_count": null,
      "outputs": [
        {
          "output_type": "execute_result",
          "data": {
            "text/plain": [
              "5.6"
            ]
          },
          "metadata": {},
          "execution_count": 95
        }
      ]
    },
    {
      "cell_type": "code",
      "execution_count": null,
      "id": "a3918562",
      "metadata": {
        "colab": {
          "base_uri": "https://localhost:8080/"
        },
        "id": "a3918562",
        "outputId": "ec6506ff-19b1-4581-fe44-8575857ec32e"
      },
      "outputs": [
        {
          "output_type": "execute_result",
          "data": {
            "text/plain": [
              "False"
            ]
          },
          "metadata": {},
          "execution_count": 14
        }
      ],
      "source": [
        "bool(0)"
      ]
    },
    {
      "cell_type": "code",
      "execution_count": null,
      "id": "d9b4f4d5",
      "metadata": {
        "colab": {
          "base_uri": "https://localhost:8080/"
        },
        "id": "d9b4f4d5",
        "outputId": "a240b9bb-7d52-4f56-efbc-96f859d737e4"
      },
      "outputs": [
        {
          "output_type": "execute_result",
          "data": {
            "text/plain": [
              "True"
            ]
          },
          "metadata": {},
          "execution_count": 12
        }
      ],
      "source": [
        "bool(1)"
      ]
    },
    {
      "cell_type": "code",
      "execution_count": null,
      "id": "d9badf3c",
      "metadata": {
        "colab": {
          "base_uri": "https://localhost:8080/"
        },
        "id": "d9badf3c",
        "outputId": "4465dd2b-69b8-4d94-dea6-3c41c64c49b5"
      },
      "outputs": [
        {
          "output_type": "execute_result",
          "data": {
            "text/plain": [
              "True"
            ]
          },
          "metadata": {},
          "execution_count": 15
        }
      ],
      "source": [
        "bool(5)"
      ]
    },
    {
      "cell_type": "code",
      "execution_count": null,
      "id": "0887a392",
      "metadata": {
        "colab": {
          "base_uri": "https://localhost:8080/"
        },
        "id": "0887a392",
        "outputId": "4eb5b312-65fa-4241-b9e7-77ab7150e4bf"
      },
      "outputs": [
        {
          "output_type": "execute_result",
          "data": {
            "text/plain": [
              "True"
            ]
          },
          "metadata": {},
          "execution_count": 16
        }
      ],
      "source": [
        "bool(\"Hi\")"
      ]
    },
    {
      "cell_type": "code",
      "execution_count": null,
      "id": "b1581f6d",
      "metadata": {
        "colab": {
          "base_uri": "https://localhost:8080/"
        },
        "id": "b1581f6d",
        "outputId": "ab8510b9-4c47-4f7b-e731-3b19b1a3da05"
      },
      "outputs": [
        {
          "output_type": "execute_result",
          "data": {
            "text/plain": [
              "False"
            ]
          },
          "metadata": {},
          "execution_count": 17
        }
      ],
      "source": [
        "bool(\"\")"
      ]
    },
    {
      "cell_type": "code",
      "execution_count": null,
      "id": "39f356d1",
      "metadata": {
        "colab": {
          "base_uri": "https://localhost:8080/"
        },
        "id": "39f356d1",
        "outputId": "c25b29cb-63c2-4deb-90bf-b1541fdb4f3c"
      },
      "outputs": [
        {
          "output_type": "execute_result",
          "data": {
            "text/plain": [
              "True"
            ]
          },
          "metadata": {},
          "execution_count": 18
        }
      ],
      "source": [
        "bool(\" \")"
      ]
    },
    {
      "cell_type": "markdown",
      "id": "0a8daa43",
      "metadata": {
        "id": "0a8daa43"
      },
      "source": [
        "### Notlar:\n",
        "- String bir float değer int() fonksiyonu ile dönüşmez.\n",
        "\n",
        "- Sıfır dışında her rakam True değerini verir.\n",
        "\n",
        "- Boş bir string ifade dışında tüm string değerler True sonucunu verir"
      ]
    },
    {
      "cell_type": "markdown",
      "id": "abcec5e4",
      "metadata": {
        "id": "abcec5e4"
      },
      "source": [
        "# Operatörler"
      ]
    },
    {
      "cell_type": "markdown",
      "id": "a2584641",
      "metadata": {
        "id": "a2584641"
      },
      "source": [
        "### Matematiksel Operatörler"
      ]
    },
    {
      "cell_type": "code",
      "execution_count": null,
      "id": "aa979055",
      "metadata": {
        "colab": {
          "base_uri": "https://localhost:8080/"
        },
        "id": "aa979055",
        "outputId": "7962ae73-04cf-4265-99cf-43cb84d3fa34"
      },
      "outputs": [
        {
          "output_type": "execute_result",
          "data": {
            "text/plain": [
              "14"
            ]
          },
          "metadata": {},
          "execution_count": 20
        }
      ],
      "source": [
        "8+6"
      ]
    },
    {
      "cell_type": "code",
      "execution_count": null,
      "id": "5ff3d6e5",
      "metadata": {
        "colab": {
          "base_uri": "https://localhost:8080/"
        },
        "id": "5ff3d6e5",
        "outputId": "15c54675-cde3-4ac3-fb06-785d2e762ba6"
      },
      "outputs": [
        {
          "output_type": "execute_result",
          "data": {
            "text/plain": [
              "-6"
            ]
          },
          "metadata": {},
          "execution_count": 21
        }
      ],
      "source": [
        "19-25"
      ]
    },
    {
      "cell_type": "code",
      "execution_count": null,
      "id": "9a31a1cd",
      "metadata": {
        "id": "9a31a1cd"
      },
      "outputs": [],
      "source": [
        "7*3"
      ]
    },
    {
      "cell_type": "code",
      "execution_count": null,
      "id": "27e8abf9",
      "metadata": {
        "colab": {
          "base_uri": "https://localhost:8080/"
        },
        "id": "27e8abf9",
        "outputId": "06cb5314-2bf1-4eb5-b928-3d068271afed"
      },
      "outputs": [
        {
          "output_type": "execute_result",
          "data": {
            "text/plain": [
              "6.333333333333333"
            ]
          },
          "metadata": {},
          "execution_count": 24
        }
      ],
      "source": [
        "19/3"
      ]
    },
    {
      "cell_type": "code",
      "execution_count": null,
      "id": "fa29b42f",
      "metadata": {
        "colab": {
          "base_uri": "https://localhost:8080/"
        },
        "id": "fa29b42f",
        "outputId": "121e73a6-dded-4c50-cd5d-60c3f4888da5"
      },
      "outputs": [
        {
          "output_type": "execute_result",
          "data": {
            "text/plain": [
              "3"
            ]
          },
          "metadata": {},
          "execution_count": 22
        }
      ],
      "source": [
        "#mod alma\n",
        "73%5"
      ]
    },
    {
      "cell_type": "code",
      "execution_count": null,
      "id": "0c0152fc",
      "metadata": {
        "id": "0c0152fc"
      },
      "outputs": [],
      "source": [
        "#Üs alma\n",
        "4**3"
      ]
    },
    {
      "cell_type": "code",
      "execution_count": null,
      "id": "1858e4a8",
      "metadata": {
        "colab": {
          "base_uri": "https://localhost:8080/"
        },
        "id": "1858e4a8",
        "outputId": "7f24b384-27d9-49c6-9ea2-31f36360bbbd"
      },
      "outputs": [
        {
          "output_type": "execute_result",
          "data": {
            "text/plain": [
              "6"
            ]
          },
          "metadata": {},
          "execution_count": 23
        }
      ],
      "source": [
        "#tam bölme\n",
        "19//3"
      ]
    },
    {
      "cell_type": "code",
      "execution_count": null,
      "id": "e0917a5b",
      "metadata": {
        "colab": {
          "base_uri": "https://localhost:8080/",
          "height": 36
        },
        "id": "e0917a5b",
        "outputId": "d629be21-2f83-4184-ad13-a1370d2b1f7d"
      },
      "outputs": [
        {
          "output_type": "execute_result",
          "data": {
            "text/plain": [
              "'HiKod'"
            ],
            "application/vnd.google.colaboratory.intrinsic+json": {
              "type": "string"
            }
          },
          "metadata": {},
          "execution_count": 25
        }
      ],
      "source": [
        "\"Hi\"+\"Kod\""
      ]
    },
    {
      "cell_type": "code",
      "execution_count": null,
      "id": "3d85fff8",
      "metadata": {
        "colab": {
          "base_uri": "https://localhost:8080/",
          "height": 36
        },
        "id": "3d85fff8",
        "outputId": "f2c769c3-eb00-483f-9644-3e332d470136"
      },
      "outputs": [
        {
          "output_type": "execute_result",
          "data": {
            "text/plain": [
              "'Hi Kod'"
            ],
            "application/vnd.google.colaboratory.intrinsic+json": {
              "type": "string"
            }
          },
          "metadata": {},
          "execution_count": 26
        }
      ],
      "source": [
        "\"Hi\"+\" Kod\""
      ]
    },
    {
      "cell_type": "code",
      "execution_count": null,
      "id": "68707581",
      "metadata": {
        "colab": {
          "base_uri": "https://localhost:8080/",
          "height": 36
        },
        "id": "68707581",
        "outputId": "d3b6a420-f575-4fa7-8128-058ececc8cb6"
      },
      "outputs": [
        {
          "output_type": "execute_result",
          "data": {
            "text/plain": [
              "'129'"
            ],
            "application/vnd.google.colaboratory.intrinsic+json": {
              "type": "string"
            }
          },
          "metadata": {},
          "execution_count": 27
        }
      ],
      "source": [
        "\"12\"+\"9\""
      ]
    },
    {
      "cell_type": "code",
      "execution_count": null,
      "id": "c4979a49",
      "metadata": {
        "colab": {
          "base_uri": "https://localhost:8080/",
          "height": 36
        },
        "id": "c4979a49",
        "outputId": "c8a8e65a-e813-45ca-90f7-ffc544c305c9"
      },
      "outputs": [
        {
          "output_type": "execute_result",
          "data": {
            "text/plain": [
              "'Hi-Kod Hi-Kod Hi-Kod '"
            ],
            "application/vnd.google.colaboratory.intrinsic+json": {
              "type": "string"
            }
          },
          "metadata": {},
          "execution_count": 28
        }
      ],
      "source": [
        "\"Hi-Kod \" * 3"
      ]
    },
    {
      "cell_type": "markdown",
      "id": "2d6b853e",
      "metadata": {
        "id": "2d6b853e"
      },
      "source": [
        "### Atama Operatörleri\n"
      ]
    },
    {
      "cell_type": "code",
      "execution_count": null,
      "id": "7d953f3c",
      "metadata": {
        "colab": {
          "base_uri": "https://localhost:8080/"
        },
        "id": "7d953f3c",
        "outputId": "f3c17386-dc4a-46e4-9604-2922b4a3d6ce"
      },
      "outputs": [
        {
          "output_type": "execute_result",
          "data": {
            "text/plain": [
              "23"
            ]
          },
          "metadata": {},
          "execution_count": 29
        }
      ],
      "source": [
        "ahmet = 23\n",
        "ahmet"
      ]
    },
    {
      "cell_type": "code",
      "execution_count": null,
      "id": "b965890d",
      "metadata": {
        "id": "b965890d"
      },
      "outputs": [],
      "source": [
        "ayse = 21"
      ]
    },
    {
      "cell_type": "code",
      "execution_count": null,
      "id": "ce07d53b",
      "metadata": {
        "id": "ce07d53b"
      },
      "outputs": [],
      "source": [
        "ayse"
      ]
    },
    {
      "cell_type": "code",
      "execution_count": null,
      "id": "fa14ef6f",
      "metadata": {
        "colab": {
          "base_uri": "https://localhost:8080/"
        },
        "id": "fa14ef6f",
        "outputId": "06027bf8-8ea2-4a40-c450-89ceef6bb169"
      },
      "outputs": [
        {
          "output_type": "execute_result",
          "data": {
            "text/plain": [
              "25"
            ]
          },
          "metadata": {},
          "execution_count": 31
        }
      ],
      "source": [
        "ahmet += 2\n",
        "ahmet"
      ]
    },
    {
      "cell_type": "code",
      "execution_count": null,
      "id": "7446cbba",
      "metadata": {
        "colab": {
          "base_uri": "https://localhost:8080/",
          "height": 141
        },
        "id": "7446cbba",
        "outputId": "aa36653c-ab6c-4120-b2d8-56847c8d97cf"
      },
      "outputs": [
        {
          "output_type": "error",
          "ename": "NameError",
          "evalue": "name 'ayşe' is not defined",
          "traceback": [
            "\u001b[0;31m---------------------------------------------------------------------------\u001b[0m",
            "\u001b[0;31mNameError\u001b[0m                                 Traceback (most recent call last)",
            "\u001b[0;32m/tmp/ipython-input-3234707677.py\u001b[0m in \u001b[0;36m<cell line: 0>\u001b[0;34m()\u001b[0m\n\u001b[0;32m----> 1\u001b[0;31m \u001b[0mayşe\u001b[0m \u001b[0;34m-=\u001b[0m \u001b[0;36m3\u001b[0m\u001b[0;34m\u001b[0m\u001b[0;34m\u001b[0m\u001b[0m\n\u001b[0m",
            "\u001b[0;31mNameError\u001b[0m: name 'ayşe' is not defined"
          ]
        }
      ],
      "source": [
        "ayşe -= 3"
      ]
    },
    {
      "cell_type": "code",
      "execution_count": null,
      "id": "df00e303",
      "metadata": {
        "colab": {
          "base_uri": "https://localhost:8080/",
          "height": 141
        },
        "id": "df00e303",
        "outputId": "cbe06f5e-7200-4b42-cab2-22651cd0e48b"
      },
      "outputs": [
        {
          "output_type": "error",
          "ename": "NameError",
          "evalue": "name 'ayşe' is not defined",
          "traceback": [
            "\u001b[0;31m---------------------------------------------------------------------------\u001b[0m",
            "\u001b[0;31mNameError\u001b[0m                                 Traceback (most recent call last)",
            "\u001b[0;32m/tmp/ipython-input-2834711006.py\u001b[0m in \u001b[0;36m<cell line: 0>\u001b[0;34m()\u001b[0m\n\u001b[0;32m----> 1\u001b[0;31m \u001b[0mayşe\u001b[0m\u001b[0;34m\u001b[0m\u001b[0;34m\u001b[0m\u001b[0m\n\u001b[0m",
            "\u001b[0;31mNameError\u001b[0m: name 'ayşe' is not defined"
          ]
        }
      ],
      "source": [
        "ayşe"
      ]
    },
    {
      "cell_type": "markdown",
      "id": "b39da552",
      "metadata": {
        "id": "b39da552"
      },
      "source": [
        "### Karşılaştırma Operatörleri"
      ]
    },
    {
      "cell_type": "code",
      "execution_count": null,
      "id": "bc637c0d",
      "metadata": {
        "id": "bc637c0d"
      },
      "outputs": [],
      "source": [
        "melek = 24\n",
        "sedat = 36\n",
        "defne = 18\n",
        "emre = 28\n",
        "seda = 24"
      ]
    },
    {
      "cell_type": "code",
      "execution_count": null,
      "id": "faf56a1e",
      "metadata": {
        "colab": {
          "base_uri": "https://localhost:8080/"
        },
        "id": "faf56a1e",
        "outputId": "17676cd9-e3e6-4d16-e093-f39438b46fe0"
      },
      "outputs": [
        {
          "output_type": "execute_result",
          "data": {
            "text/plain": [
              "True"
            ]
          },
          "metadata": {},
          "execution_count": 36
        }
      ],
      "source": [
        "24 == 24"
      ]
    },
    {
      "cell_type": "code",
      "execution_count": null,
      "id": "090ad9b6",
      "metadata": {
        "colab": {
          "base_uri": "https://localhost:8080/"
        },
        "id": "090ad9b6",
        "outputId": "d9cd766b-7df5-4890-f907-72e5414feff6"
      },
      "outputs": [
        {
          "output_type": "execute_result",
          "data": {
            "text/plain": [
              "False"
            ]
          },
          "metadata": {},
          "execution_count": 37
        }
      ],
      "source": [
        "24 == 36"
      ]
    },
    {
      "cell_type": "code",
      "execution_count": null,
      "id": "20ce29ca",
      "metadata": {
        "colab": {
          "base_uri": "https://localhost:8080/"
        },
        "id": "20ce29ca",
        "outputId": "bbc9f85c-3f47-4c6d-ff64-b9e5f1c00dd3"
      },
      "outputs": [
        {
          "output_type": "execute_result",
          "data": {
            "text/plain": [
              "True"
            ]
          },
          "metadata": {},
          "execution_count": 38
        }
      ],
      "source": [
        "24 != 36"
      ]
    },
    {
      "cell_type": "code",
      "execution_count": null,
      "id": "b044a21e",
      "metadata": {
        "colab": {
          "base_uri": "https://localhost:8080/"
        },
        "id": "b044a21e",
        "outputId": "dad66c33-2d92-4d9d-8753-6573f34f36d4"
      },
      "outputs": [
        {
          "output_type": "execute_result",
          "data": {
            "text/plain": [
              "True"
            ]
          },
          "metadata": {},
          "execution_count": 39
        }
      ],
      "source": [
        "18 != 28"
      ]
    },
    {
      "cell_type": "code",
      "execution_count": null,
      "id": "70a6f7da",
      "metadata": {
        "colab": {
          "base_uri": "https://localhost:8080/"
        },
        "id": "70a6f7da",
        "outputId": "314c41b0-f201-40f3-f137-76a2b8f628f0"
      },
      "outputs": [
        {
          "output_type": "execute_result",
          "data": {
            "text/plain": [
              "True"
            ]
          },
          "metadata": {},
          "execution_count": 40
        }
      ],
      "source": [
        "24 > 18"
      ]
    },
    {
      "cell_type": "code",
      "execution_count": null,
      "id": "15fbad02",
      "metadata": {
        "colab": {
          "base_uri": "https://localhost:8080/"
        },
        "id": "15fbad02",
        "outputId": "c260442e-f9d7-4b88-d7cd-b950dc31668f"
      },
      "outputs": [
        {
          "output_type": "execute_result",
          "data": {
            "text/plain": [
              "False"
            ]
          },
          "metadata": {},
          "execution_count": 41
        }
      ],
      "source": [
        "28 > 36"
      ]
    },
    {
      "cell_type": "code",
      "execution_count": null,
      "id": "2917d39b",
      "metadata": {
        "colab": {
          "base_uri": "https://localhost:8080/"
        },
        "id": "2917d39b",
        "outputId": "44c70a0a-ff0b-4409-91a1-a4e05252efea"
      },
      "outputs": [
        {
          "output_type": "execute_result",
          "data": {
            "text/plain": [
              "True"
            ]
          },
          "metadata": {},
          "execution_count": 42
        }
      ],
      "source": [
        "18 <= 36"
      ]
    },
    {
      "cell_type": "code",
      "execution_count": null,
      "id": "0c014892",
      "metadata": {
        "colab": {
          "base_uri": "https://localhost:8080/"
        },
        "id": "0c014892",
        "outputId": "a67662db-f837-47b6-acaa-412012f82276"
      },
      "outputs": [
        {
          "output_type": "execute_result",
          "data": {
            "text/plain": [
              "True"
            ]
          },
          "metadata": {},
          "execution_count": 43
        }
      ],
      "source": [
        "42 <= 42"
      ]
    },
    {
      "cell_type": "markdown",
      "id": "ffc46fd9",
      "metadata": {
        "id": "ffc46fd9"
      },
      "source": [
        "### Mantıksal Operatörler"
      ]
    },
    {
      "cell_type": "code",
      "execution_count": null,
      "id": "cba45424",
      "metadata": {
        "id": "cba45424"
      },
      "outputs": [],
      "source": [
        "x = 10"
      ]
    },
    {
      "cell_type": "code",
      "execution_count": null,
      "id": "04694eaa",
      "metadata": {
        "colab": {
          "base_uri": "https://localhost:8080/"
        },
        "id": "04694eaa",
        "outputId": "40bf1de7-5a2f-4d8b-f39b-bf948d6e28ee"
      },
      "outputs": [
        {
          "output_type": "execute_result",
          "data": {
            "text/plain": [
              "True"
            ]
          },
          "metadata": {},
          "execution_count": 46
        }
      ],
      "source": [
        "x < 12 and x > 4"
      ]
    },
    {
      "cell_type": "code",
      "execution_count": null,
      "id": "d84636f8",
      "metadata": {
        "id": "d84636f8"
      },
      "outputs": [],
      "source": [
        "x < 9 and x < 14"
      ]
    },
    {
      "cell_type": "code",
      "execution_count": null,
      "id": "c712aea5",
      "metadata": {
        "id": "c712aea5"
      },
      "outputs": [],
      "source": [
        "x < 9 or x < 14"
      ]
    },
    {
      "cell_type": "code",
      "execution_count": null,
      "id": "60db6abc",
      "metadata": {
        "colab": {
          "base_uri": "https://localhost:8080/"
        },
        "id": "60db6abc",
        "outputId": "c3e49f60-00a9-40d5-d452-c19e67f74c89"
      },
      "outputs": [
        {
          "output_type": "execute_result",
          "data": {
            "text/plain": [
              "True"
            ]
          },
          "metadata": {},
          "execution_count": 47
        }
      ],
      "source": [
        "(17 < 20) and (26 > 19)"
      ]
    },
    {
      "cell_type": "code",
      "execution_count": null,
      "id": "e855a1ec",
      "metadata": {
        "colab": {
          "base_uri": "https://localhost:8080/"
        },
        "id": "e855a1ec",
        "outputId": "b67b4bb1-3ed5-4b44-ab54-01ca23a5d56f"
      },
      "outputs": [
        {
          "output_type": "execute_result",
          "data": {
            "text/plain": [
              "False"
            ]
          },
          "metadata": {},
          "execution_count": 50
        }
      ],
      "source": [
        "(45 < 50) and (24 < 19)"
      ]
    },
    {
      "cell_type": "code",
      "execution_count": null,
      "id": "ffe16d49",
      "metadata": {
        "colab": {
          "base_uri": "https://localhost:8080/"
        },
        "id": "ffe16d49",
        "outputId": "e98e0b6e-18b5-4c99-eba9-a47e13362050"
      },
      "outputs": [
        {
          "output_type": "execute_result",
          "data": {
            "text/plain": [
              "True"
            ]
          },
          "metadata": {},
          "execution_count": 49
        }
      ],
      "source": [
        "(45 < 50) or (24 < 19)"
      ]
    },
    {
      "cell_type": "code",
      "execution_count": null,
      "id": "509ab8af",
      "metadata": {
        "colab": {
          "base_uri": "https://localhost:8080/"
        },
        "id": "509ab8af",
        "outputId": "d60e335a-8961-462b-be00-71f96bd5ad65"
      },
      "outputs": [
        {
          "output_type": "execute_result",
          "data": {
            "text/plain": [
              "False"
            ]
          },
          "metadata": {},
          "execution_count": 48
        }
      ],
      "source": [
        "not(x < 12 and x > 4)"
      ]
    },
    {
      "cell_type": "code",
      "execution_count": null,
      "id": "24f9dcb9",
      "metadata": {
        "colab": {
          "base_uri": "https://localhost:8080/"
        },
        "id": "24f9dcb9",
        "outputId": "f4e7aad0-1415-403f-f076-bcef88a80931"
      },
      "outputs": [
        {
          "output_type": "execute_result",
          "data": {
            "text/plain": [
              "False"
            ]
          },
          "metadata": {},
          "execution_count": 51
        }
      ],
      "source": [
        "not((45 < 50) or (24 < 19))"
      ]
    },
    {
      "cell_type": "markdown",
      "id": "de67dbb6",
      "metadata": {
        "id": "de67dbb6"
      },
      "source": [
        "### Üyelik Operatörleri"
      ]
    },
    {
      "cell_type": "code",
      "execution_count": null,
      "id": "b9b1b821",
      "metadata": {
        "colab": {
          "base_uri": "https://localhost:8080/",
          "height": 36
        },
        "id": "b9b1b821",
        "outputId": "b972c065-b640-43e0-c428-63ab7205e5ed"
      },
      "outputs": [
        {
          "output_type": "execute_result",
          "data": {
            "text/plain": [
              "'Hi-Kod Veri Bilimi'"
            ],
            "application/vnd.google.colaboratory.intrinsic+json": {
              "type": "string"
            }
          },
          "metadata": {},
          "execution_count": 52
        }
      ],
      "source": [
        "atolye = \"Hi-Kod Veri Bilimi\"\n",
        "atolye"
      ]
    },
    {
      "cell_type": "code",
      "execution_count": null,
      "id": "5e762056",
      "metadata": {
        "colab": {
          "base_uri": "https://localhost:8080/"
        },
        "id": "5e762056",
        "outputId": "3780c16f-a2b9-4f6e-ab83-9db619ac3990"
      },
      "outputs": [
        {
          "output_type": "execute_result",
          "data": {
            "text/plain": [
              "True"
            ]
          },
          "metadata": {},
          "execution_count": 53
        }
      ],
      "source": [
        "\"i\" in atolye"
      ]
    },
    {
      "cell_type": "code",
      "execution_count": null,
      "id": "07e4e30f",
      "metadata": {
        "colab": {
          "base_uri": "https://localhost:8080/"
        },
        "id": "07e4e30f",
        "outputId": "e5983cb0-6e3f-4e0c-af94-1c310ab21b3f"
      },
      "outputs": [
        {
          "output_type": "execute_result",
          "data": {
            "text/plain": [
              "False"
            ]
          },
          "metadata": {},
          "execution_count": 54
        }
      ],
      "source": [
        "\"v\" in atolye"
      ]
    },
    {
      "cell_type": "code",
      "execution_count": null,
      "id": "aa9ffea6",
      "metadata": {
        "colab": {
          "base_uri": "https://localhost:8080/"
        },
        "id": "aa9ffea6",
        "outputId": "29013bc2-0e74-400e-e310-b391cab82fed"
      },
      "outputs": [
        {
          "output_type": "execute_result",
          "data": {
            "text/plain": [
              "True"
            ]
          },
          "metadata": {},
          "execution_count": 57
        }
      ],
      "source": [
        "\"V\" in atolye"
      ]
    },
    {
      "cell_type": "code",
      "execution_count": null,
      "id": "82bac64c",
      "metadata": {
        "colab": {
          "base_uri": "https://localhost:8080/"
        },
        "id": "82bac64c",
        "outputId": "d8923372-280a-4f1b-914a-93efcaaf3ed0"
      },
      "outputs": [
        {
          "output_type": "execute_result",
          "data": {
            "text/plain": [
              "True"
            ]
          },
          "metadata": {},
          "execution_count": 55
        }
      ],
      "source": [
        "not \"v\" in atolye"
      ]
    },
    {
      "cell_type": "code",
      "execution_count": null,
      "id": "cbac57c4",
      "metadata": {
        "colab": {
          "base_uri": "https://localhost:8080/"
        },
        "id": "cbac57c4",
        "outputId": "83033472-ed6d-464e-e3b7-4790fd80140f"
      },
      "outputs": [
        {
          "output_type": "execute_result",
          "data": {
            "text/plain": [
              "True"
            ]
          },
          "metadata": {},
          "execution_count": 56
        }
      ],
      "source": [
        "not \"a\" in atolye"
      ]
    },
    {
      "cell_type": "code",
      "execution_count": null,
      "id": "72f347f7",
      "metadata": {
        "id": "72f347f7"
      },
      "outputs": [],
      "source": []
    },
    {
      "cell_type": "markdown",
      "id": "ef0938ef",
      "metadata": {
        "id": "ef0938ef"
      },
      "source": [
        "- **len()** fonksiyonu string ifadelerin uzunluğunu ölçer/karakter sayısını ölçer."
      ]
    },
    {
      "cell_type": "code",
      "execution_count": null,
      "id": "e6592b57",
      "metadata": {
        "colab": {
          "base_uri": "https://localhost:8080/"
        },
        "id": "e6592b57",
        "outputId": "88385230-e96d-483e-81c6-6eed11836787"
      },
      "outputs": [
        {
          "output_type": "execute_result",
          "data": {
            "text/plain": [
              "11"
            ]
          },
          "metadata": {},
          "execution_count": 58
        }
      ],
      "source": [
        "\"65198223647\"\n",
        "len(\"65198223647\")"
      ]
    },
    {
      "cell_type": "code",
      "execution_count": null,
      "id": "60ebaf2a",
      "metadata": {
        "id": "60ebaf2a"
      },
      "outputs": [],
      "source": [
        "tc_no = \"65198223647\"\n",
        "len(tc_no)"
      ]
    },
    {
      "cell_type": "code",
      "execution_count": null,
      "id": "ccabd9d5",
      "metadata": {
        "id": "ccabd9d5"
      },
      "outputs": [],
      "source": [
        "musteri_adi = \"muserrefozkan\"\n",
        "musteri_no = \"259483\""
      ]
    },
    {
      "cell_type": "code",
      "execution_count": null,
      "id": "40e55ade",
      "metadata": {
        "colab": {
          "base_uri": "https://localhost:8080/"
        },
        "id": "40e55ade",
        "outputId": "4667b433-8635-4e5f-a948-1c08336b2e92"
      },
      "outputs": [
        {
          "output_type": "execute_result",
          "data": {
            "text/plain": [
              "13"
            ]
          },
          "metadata": {},
          "execution_count": 62
        }
      ],
      "source": [
        "len(musteri_adi)"
      ]
    },
    {
      "cell_type": "code",
      "execution_count": null,
      "id": "b9a33192",
      "metadata": {
        "colab": {
          "base_uri": "https://localhost:8080/"
        },
        "id": "b9a33192",
        "outputId": "2445718f-d7ba-4cbe-99e9-1fc365603849"
      },
      "outputs": [
        {
          "output_type": "execute_result",
          "data": {
            "text/plain": [
              "6"
            ]
          },
          "metadata": {},
          "execution_count": 63
        }
      ],
      "source": [
        "len(musteri_no)"
      ]
    },
    {
      "cell_type": "code",
      "execution_count": null,
      "id": "90bdc7f1",
      "metadata": {
        "colab": {
          "base_uri": "https://localhost:8080/"
        },
        "id": "90bdc7f1",
        "outputId": "3a333c9c-29e7-4edf-9ad2-0de833cb3f20"
      },
      "outputs": [
        {
          "output_type": "stream",
          "name": "stdout",
          "text": [
            "<class 'str'>\n",
            "<class 'int'>\n"
          ]
        }
      ],
      "source": [
        "print(type(musteri_no))\n",
        "print(type(len(musteri_no)))"
      ]
    },
    {
      "cell_type": "code",
      "execution_count": null,
      "id": "1a5246ce",
      "metadata": {
        "colab": {
          "base_uri": "https://localhost:8080/"
        },
        "id": "1a5246ce",
        "outputId": "cd3fb9bf-c412-4516-d785-0999a949b5b9"
      },
      "outputs": [
        {
          "output_type": "execute_result",
          "data": {
            "text/plain": [
              "True"
            ]
          },
          "metadata": {},
          "execution_count": 65
        }
      ],
      "source": [
        "len(musteri_no) == 6"
      ]
    },
    {
      "cell_type": "code",
      "execution_count": null,
      "id": "c815cc66",
      "metadata": {
        "colab": {
          "base_uri": "https://localhost:8080/"
        },
        "id": "c815cc66",
        "outputId": "c8d79608-ae53-4f31-ffad-7d8762a98a7d"
      },
      "outputs": [
        {
          "output_type": "execute_result",
          "data": {
            "text/plain": [
              "True"
            ]
          },
          "metadata": {},
          "execution_count": 66
        }
      ],
      "source": [
        "len(musteri_no) > 4"
      ]
    },
    {
      "cell_type": "markdown",
      "id": "f5491d3f",
      "metadata": {
        "id": "f5491d3f"
      },
      "source": [
        "- split() fonksiyonu, bir metni boşluklara (veya belirttiğin başka bir karaktere) göre parçalara ayırır ve bir liste olarak verir."
      ]
    },
    {
      "cell_type": "code",
      "execution_count": null,
      "id": "376f9d4d",
      "metadata": {
        "colab": {
          "base_uri": "https://localhost:8080/",
          "height": 36
        },
        "id": "376f9d4d",
        "outputId": "52a28db9-5f0e-497a-9d32-06b5db7a4e88"
      },
      "outputs": [
        {
          "output_type": "execute_result",
          "data": {
            "text/plain": [
              "'Hi-Kod Veri Bilimi'"
            ],
            "application/vnd.google.colaboratory.intrinsic+json": {
              "type": "string"
            }
          },
          "metadata": {},
          "execution_count": 67
        }
      ],
      "source": [
        "atolye"
      ]
    },
    {
      "cell_type": "code",
      "execution_count": null,
      "id": "3b371fff",
      "metadata": {
        "colab": {
          "base_uri": "https://localhost:8080/"
        },
        "id": "3b371fff",
        "outputId": "a8b737bd-bf2a-40bc-c321-0abd1c10d960"
      },
      "outputs": [
        {
          "output_type": "execute_result",
          "data": {
            "text/plain": [
              "['Hi-Kod', 'Veri', 'Bilimi']"
            ]
          },
          "metadata": {},
          "execution_count": 68
        }
      ],
      "source": [
        "atolye.split()"
      ]
    },
    {
      "cell_type": "code",
      "execution_count": null,
      "id": "58532f28",
      "metadata": {
        "id": "58532f28"
      },
      "outputs": [],
      "source": [
        "liste =atolye.split()"
      ]
    },
    {
      "cell_type": "code",
      "execution_count": null,
      "id": "acc9618a",
      "metadata": {
        "colab": {
          "base_uri": "https://localhost:8080/"
        },
        "id": "acc9618a",
        "outputId": "9fb12656-7f04-47f9-ab43-7a0b5317b62e"
      },
      "outputs": [
        {
          "output_type": "execute_result",
          "data": {
            "text/plain": [
              "['Hi-Kod', 'Veri', 'Bilimi']"
            ]
          },
          "metadata": {},
          "execution_count": 70
        }
      ],
      "source": [
        "liste"
      ]
    },
    {
      "cell_type": "code",
      "execution_count": null,
      "id": "1dee811e",
      "metadata": {
        "id": "1dee811e"
      },
      "outputs": [],
      "source": [
        "liste2 = atolye.split(\"i\")"
      ]
    },
    {
      "cell_type": "code",
      "execution_count": null,
      "id": "bba44860",
      "metadata": {
        "colab": {
          "base_uri": "https://localhost:8080/"
        },
        "id": "bba44860",
        "outputId": "929447e5-3c11-4fc4-e019-dfa44f81a581"
      },
      "outputs": [
        {
          "output_type": "execute_result",
          "data": {
            "text/plain": [
              "['H', '-Kod Ver', ' B', 'l', 'm', '']"
            ]
          },
          "metadata": {},
          "execution_count": 72
        }
      ],
      "source": [
        "liste2"
      ]
    },
    {
      "cell_type": "markdown",
      "id": "8a6389ca",
      "metadata": {
        "id": "8a6389ca"
      },
      "source": [
        "- Indexing ve slicing, string (veya liste gibi veri tipleri) üzerinde erişim ve parça alma işlemleri yapmak için kullanılır."
      ]
    },
    {
      "cell_type": "code",
      "execution_count": null,
      "id": "6bbce4c8",
      "metadata": {
        "colab": {
          "base_uri": "https://localhost:8080/",
          "height": 36
        },
        "id": "6bbce4c8",
        "outputId": "9c17bac4-48ea-41bd-f221-1a5030482673"
      },
      "outputs": [
        {
          "output_type": "execute_result",
          "data": {
            "text/plain": [
              "'a'"
            ],
            "application/vnd.google.colaboratory.intrinsic+json": {
              "type": "string"
            }
          },
          "metadata": {},
          "execution_count": 73
        }
      ],
      "source": [
        "#indexing,silicing\n",
        "harfler = \"abcdefghijklmn\"\n",
        "harfler[0]"
      ]
    },
    {
      "cell_type": "code",
      "execution_count": null,
      "id": "9fdaa20f",
      "metadata": {
        "colab": {
          "base_uri": "https://localhost:8080/",
          "height": 36
        },
        "id": "9fdaa20f",
        "outputId": "7a566767-677d-44b6-df87-81040c6abc2e"
      },
      "outputs": [
        {
          "output_type": "execute_result",
          "data": {
            "text/plain": [
              "'b'"
            ],
            "application/vnd.google.colaboratory.intrinsic+json": {
              "type": "string"
            }
          },
          "metadata": {},
          "execution_count": 74
        }
      ],
      "source": [
        "harfler[1]"
      ]
    },
    {
      "cell_type": "code",
      "execution_count": null,
      "id": "29dd13ae",
      "metadata": {
        "colab": {
          "base_uri": "https://localhost:8080/",
          "height": 36
        },
        "id": "29dd13ae",
        "outputId": "63ef89cc-b1c2-4ed0-a672-3b2c6f27bd54"
      },
      "outputs": [
        {
          "output_type": "execute_result",
          "data": {
            "text/plain": [
              "'c'"
            ],
            "application/vnd.google.colaboratory.intrinsic+json": {
              "type": "string"
            }
          },
          "metadata": {},
          "execution_count": 75
        }
      ],
      "source": [
        "harfler[2]"
      ]
    },
    {
      "cell_type": "code",
      "execution_count": null,
      "id": "a5aec2be",
      "metadata": {
        "colab": {
          "base_uri": "https://localhost:8080/",
          "height": 36
        },
        "id": "a5aec2be",
        "outputId": "9535a1ce-6366-4175-e394-8d5effc225ce"
      },
      "outputs": [
        {
          "output_type": "execute_result",
          "data": {
            "text/plain": [
              "'e'"
            ],
            "application/vnd.google.colaboratory.intrinsic+json": {
              "type": "string"
            }
          },
          "metadata": {},
          "execution_count": 76
        }
      ],
      "source": [
        "#e harfine ulaşalım\n",
        "harfler[4]"
      ]
    },
    {
      "cell_type": "code",
      "execution_count": null,
      "id": "48f47760",
      "metadata": {
        "id": "48f47760"
      },
      "outputs": [],
      "source": [
        "#i harfine ulaşalım\n",
        "harfler[8]"
      ]
    },
    {
      "cell_type": "code",
      "execution_count": null,
      "id": "03cb209b",
      "metadata": {
        "colab": {
          "base_uri": "https://localhost:8080/",
          "height": 36
        },
        "id": "03cb209b",
        "outputId": "6000f8d3-ea5e-41b8-d038-d5e1f0e62bed"
      },
      "outputs": [
        {
          "output_type": "execute_result",
          "data": {
            "text/plain": [
              "'n'"
            ],
            "application/vnd.google.colaboratory.intrinsic+json": {
              "type": "string"
            }
          },
          "metadata": {},
          "execution_count": 77
        }
      ],
      "source": [
        "harfler[-1]"
      ]
    },
    {
      "cell_type": "code",
      "execution_count": null,
      "id": "d5c47805",
      "metadata": {
        "colab": {
          "base_uri": "https://localhost:8080/",
          "height": 36
        },
        "id": "d5c47805",
        "outputId": "b30d17aa-b6df-4820-aae8-5d20d0bb74f3"
      },
      "outputs": [
        {
          "output_type": "execute_result",
          "data": {
            "text/plain": [
              "'m'"
            ],
            "application/vnd.google.colaboratory.intrinsic+json": {
              "type": "string"
            }
          },
          "metadata": {},
          "execution_count": 78
        }
      ],
      "source": [
        "harfler[-2]"
      ]
    },
    {
      "cell_type": "code",
      "execution_count": null,
      "id": "87a1a485",
      "metadata": {
        "id": "87a1a485"
      },
      "outputs": [],
      "source": [
        "#i harfine ulaşalım\n",
        "harfler[-6]"
      ]
    },
    {
      "cell_type": "code",
      "execution_count": null,
      "id": "fce07aec",
      "metadata": {
        "colab": {
          "base_uri": "https://localhost:8080/",
          "height": 36
        },
        "id": "fce07aec",
        "outputId": "1286895f-9448-4447-f76d-439516b9a602"
      },
      "outputs": [
        {
          "output_type": "execute_result",
          "data": {
            "text/plain": [
              "'abcdefghijklmn'"
            ],
            "application/vnd.google.colaboratory.intrinsic+json": {
              "type": "string"
            }
          },
          "metadata": {},
          "execution_count": 79
        }
      ],
      "source": [
        "harfler"
      ]
    },
    {
      "cell_type": "code",
      "execution_count": null,
      "id": "4e58514b",
      "metadata": {
        "colab": {
          "base_uri": "https://localhost:8080/",
          "height": 36
        },
        "id": "4e58514b",
        "outputId": "fd664535-1efe-4c85-b9f1-7c3a7755c8f8"
      },
      "outputs": [
        {
          "output_type": "execute_result",
          "data": {
            "text/plain": [
              "'abcde'"
            ],
            "application/vnd.google.colaboratory.intrinsic+json": {
              "type": "string"
            }
          },
          "metadata": {},
          "execution_count": 80
        }
      ],
      "source": [
        "harfler[0:5]"
      ]
    },
    {
      "cell_type": "code",
      "execution_count": null,
      "id": "6b39ffa7",
      "metadata": {
        "id": "6b39ffa7"
      },
      "outputs": [],
      "source": [
        "harfler[4:7]"
      ]
    },
    {
      "cell_type": "code",
      "execution_count": null,
      "id": "6b59c88e",
      "metadata": {
        "id": "6b59c88e"
      },
      "outputs": [],
      "source": [
        "harfler[5:10]"
      ]
    },
    {
      "cell_type": "code",
      "execution_count": null,
      "id": "42715266",
      "metadata": {
        "colab": {
          "base_uri": "https://localhost:8080/",
          "height": 36
        },
        "id": "42715266",
        "outputId": "1ba1decb-468d-4906-8171-3dd363563027"
      },
      "outputs": [
        {
          "output_type": "execute_result",
          "data": {
            "text/plain": [
              "'acegikm'"
            ],
            "application/vnd.google.colaboratory.intrinsic+json": {
              "type": "string"
            }
          },
          "metadata": {},
          "execution_count": 81
        }
      ],
      "source": [
        "harfler[::2]"
      ]
    },
    {
      "cell_type": "markdown",
      "id": "76ef331a",
      "metadata": {
        "id": "76ef331a"
      },
      "source": [
        "- **input()** fonksiyonu kullanıcıdan değer almak için kullanılır."
      ]
    },
    {
      "cell_type": "code",
      "execution_count": null,
      "id": "573a6c3a",
      "metadata": {
        "colab": {
          "base_uri": "https://localhost:8080/",
          "height": 53
        },
        "id": "573a6c3a",
        "outputId": "aabeece2-c612-4b26-c0fd-8c8d6b569582"
      },
      "outputs": [
        {
          "name": "stdout",
          "output_type": "stream",
          "text": [
            "Adınız:ahsen\n"
          ]
        },
        {
          "output_type": "execute_result",
          "data": {
            "text/plain": [
              "'ahsen'"
            ],
            "application/vnd.google.colaboratory.intrinsic+json": {
              "type": "string"
            }
          },
          "metadata": {},
          "execution_count": 82
        }
      ],
      "source": [
        "input(\"Adınız:\")"
      ]
    },
    {
      "cell_type": "code",
      "execution_count": null,
      "id": "4b6777d1",
      "metadata": {
        "colab": {
          "base_uri": "https://localhost:8080/"
        },
        "collapsed": true,
        "id": "4b6777d1",
        "outputId": "0f51916d-cadf-432a-cea0-84b6e6320e07"
      },
      "outputs": [
        {
          "name": "stdout",
          "output_type": "stream",
          "text": [
            "Adınız:ahsen\n"
          ]
        }
      ],
      "source": [
        "isim = input(\"Adınız:\")"
      ]
    },
    {
      "cell_type": "code",
      "execution_count": null,
      "id": "3d7f47a2",
      "metadata": {
        "colab": {
          "base_uri": "https://localhost:8080/",
          "height": 36
        },
        "collapsed": true,
        "id": "3d7f47a2",
        "outputId": "c1ee399b-17ef-4d80-d770-22bf5bc8d33a"
      },
      "outputs": [
        {
          "output_type": "execute_result",
          "data": {
            "text/plain": [
              "'ahsen'"
            ],
            "application/vnd.google.colaboratory.intrinsic+json": {
              "type": "string"
            }
          },
          "metadata": {},
          "execution_count": 97
        }
      ],
      "source": [
        "isim"
      ]
    },
    {
      "cell_type": "code",
      "execution_count": null,
      "id": "f3463f58",
      "metadata": {
        "colab": {
          "base_uri": "https://localhost:8080/"
        },
        "id": "f3463f58",
        "outputId": "913b8199-8606-4f26-d41c-965b4e856082"
      },
      "outputs": [
        {
          "output_type": "stream",
          "name": "stdout",
          "text": [
            "Yaşiniz: 44\n",
            "44\n"
          ]
        }
      ],
      "source": [
        "age = input(\"Yaşiniz: \")\n",
        "print(age)"
      ]
    },
    {
      "cell_type": "code",
      "execution_count": null,
      "id": "9dc65b26",
      "metadata": {
        "colab": {
          "base_uri": "https://localhost:8080/",
          "height": 158
        },
        "collapsed": true,
        "id": "9dc65b26",
        "outputId": "50f981ac-c66e-467b-cba1-9def3796baa4"
      },
      "outputs": [
        {
          "output_type": "error",
          "ename": "TypeError",
          "evalue": "can only concatenate str (not \"int\") to str",
          "traceback": [
            "\u001b[0;31m---------------------------------------------------------------------------\u001b[0m",
            "\u001b[0;31mTypeError\u001b[0m                                 Traceback (most recent call last)",
            "\u001b[0;32m/tmp/ipython-input-70322324.py\u001b[0m in \u001b[0;36m<cell line: 0>\u001b[0;34m()\u001b[0m\n\u001b[1;32m      1\u001b[0m \u001b[0;31m#girilen yaş değerine 5 ekleyelim\u001b[0m\u001b[0;34m\u001b[0m\u001b[0;34m\u001b[0m\u001b[0m\n\u001b[0;32m----> 2\u001b[0;31m \u001b[0mage\u001b[0m \u001b[0;34m+\u001b[0m \u001b[0;36m5\u001b[0m\u001b[0;34m\u001b[0m\u001b[0;34m\u001b[0m\u001b[0m\n\u001b[0m",
            "\u001b[0;31mTypeError\u001b[0m: can only concatenate str (not \"int\") to str"
          ]
        }
      ],
      "source": [
        "#girilen yaş değerine 5 ekleyelim\n",
        "age + 5"
      ]
    },
    {
      "cell_type": "code",
      "execution_count": null,
      "id": "d50acb2d",
      "metadata": {
        "colab": {
          "base_uri": "https://localhost:8080/"
        },
        "id": "d50acb2d",
        "outputId": "46b08940-94e0-4aec-8015-93a9229d059a"
      },
      "outputs": [
        {
          "output_type": "execute_result",
          "data": {
            "text/plain": [
              "str"
            ]
          },
          "metadata": {},
          "execution_count": 90
        }
      ],
      "source": [
        "type(age)"
      ]
    },
    {
      "cell_type": "code",
      "execution_count": null,
      "id": "01521a18",
      "metadata": {
        "id": "01521a18"
      },
      "outputs": [],
      "source": [
        "age"
      ]
    },
    {
      "cell_type": "code",
      "execution_count": null,
      "id": "d9a16b9a",
      "metadata": {
        "colab": {
          "base_uri": "https://localhost:8080/"
        },
        "id": "d9a16b9a",
        "outputId": "464eda7e-00ad-4e6d-dc14-feb8a9a4807a"
      },
      "outputs": [
        {
          "output_type": "execute_result",
          "data": {
            "text/plain": [
              "49"
            ]
          },
          "metadata": {},
          "execution_count": 91
        }
      ],
      "source": [
        "int(age) + 5"
      ]
    },
    {
      "cell_type": "code",
      "execution_count": null,
      "id": "a8aa7c32",
      "metadata": {
        "colab": {
          "base_uri": "https://localhost:8080/"
        },
        "id": "a8aa7c32",
        "outputId": "10c529f7-6239-4cfc-ce54-f15c28247b7e"
      },
      "outputs": [
        {
          "name": "stdout",
          "output_type": "stream",
          "text": [
            "Yaşınız: 44\n"
          ]
        }
      ],
      "source": [
        "yas2 = int(input(\"Yaşınız: \"))"
      ]
    },
    {
      "cell_type": "code",
      "execution_count": null,
      "id": "afa9ed35",
      "metadata": {
        "colab": {
          "base_uri": "https://localhost:8080/"
        },
        "id": "afa9ed35",
        "outputId": "0de48caf-652d-4b66-bd62-76d4f98048bd"
      },
      "outputs": [
        {
          "output_type": "execute_result",
          "data": {
            "text/plain": [
              "int"
            ]
          },
          "metadata": {},
          "execution_count": 93
        }
      ],
      "source": [
        "type(yas2)"
      ]
    },
    {
      "cell_type": "markdown",
      "id": "4c41a2c2",
      "metadata": {
        "id": "4c41a2c2"
      },
      "source": [
        "Değişken adları;\n",
        "- Değişken adları sayı ile başlayamaz.\n",
        "- Değişken adları ya bir alfabe harfiyle ya da _ işaretiyle başlamalıdır.\n",
        "- Değişken adı seçilirken türkçe karakter kullanmamaya dikkat edilmelidir.(Kullanılması sorun değil ama tercih edilmez.)\n",
        "- Pythonda özel anlam ifade eden sözcükler değişken adı olarak kullanılamaz(for,elif,list)"
      ]
    },
    {
      "cell_type": "code",
      "execution_count": null,
      "id": "7cd7a8f1",
      "metadata": {
        "id": "7cd7a8f1"
      },
      "outputs": [],
      "source": [
        "4_sayı_toplamı=2+3+2+4\n",
        "sayı_toplamı=2+3+2+"
      ]
    }
  ],
  "metadata": {
    "kernelspec": {
      "display_name": "base",
      "language": "python",
      "name": "python3"
    },
    "language_info": {
      "codemirror_mode": {
        "name": "ipython",
        "version": 3
      },
      "file_extension": ".py",
      "mimetype": "text/x-python",
      "name": "python",
      "nbconvert_exporter": "python",
      "pygments_lexer": "ipython3",
      "version": "3.12.7"
    },
    "colab": {
      "provenance": [],
      "include_colab_link": true
    }
  },
  "nbformat": 4,
  "nbformat_minor": 5
}