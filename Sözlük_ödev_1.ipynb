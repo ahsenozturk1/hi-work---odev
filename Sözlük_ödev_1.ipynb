{
  "cells": [
    {
      "cell_type": "markdown",
      "metadata": {
        "id": "view-in-github",
        "colab_type": "text"
      },
      "source": [
        "<a href=\"https://colab.research.google.com/github/ahsenozturk1/hi-work---odev/blob/main/S%C3%B6zl%C3%BCk_%C3%B6dev_1.ipynb\" target=\"_parent\"><img src=\"https://colab.research.google.com/assets/colab-badge.svg\" alt=\"Open In Colab\"/></a>"
      ]
    },
    {
      "cell_type": "markdown",
      "source": [
        "## Sozluk"
      ],
      "metadata": {
        "id": "M_DfcqxXQubL"
      }
    },
    {
      "cell_type": "markdown",
      "source": [
        "1. Bir sözlük oluşturulur ve bu sözlükte öğrencilerin isimleri ve Matematik, Fizik, Kimya notları tutulur. Kullanıcıdan isim ve ders ismi(Matematik, Fizik, Kimya) istenir ve bu bilgilere göre çıktı verilir."
      ],
      "metadata": {
        "id": "ZMXFFucEQxxD"
      }
    },
    {
      "cell_type": "markdown",
      "source": [
        "2. Sözlük üzerinde değerleri değiştirme, yeni değer ekleme, kullanıcıya ulaşmak istediği bilgileri sorma gibi uygulamalar yapın."
      ],
      "metadata": {
        "id": "8NJYTepzQ13V"
      }
    },
    {
      "cell_type": "code",
      "source": [
        "notlar = {\n",
        "    \"Ahmet\": {\"Matematik\": 80, \"Fizik\": 75, \"Kimya\": 90},\n",
        "    \"Ayşe\": {\"Matematik\": 95, \"Fizik\": 85, \"Kimya\": 88},\n",
        "    \"Mehmet\": {\"Matematik\": 70, \"Fizik\": 60, \"Kimya\": 78}\n",
        "}\n",
        "\n",
        "isim = input(\"Öğrencinin ismini giriniz: \")\n",
        "ders = input(\"Hangi dersin notunu öğrenmek istiyorsunuz? (Matematik/Fizik/Kimya): \")\n",
        "\n",
        "if isim in notlar:  # isim sözlükte var mı?\n",
        "    if ders in notlar[isim]:  # ders o öğrencide var mı?\n",
        "        print(f\"{isim} öğrencisinin {ders} notu: {notlar[isim][ders]}\")\n",
        "    else:\n",
        "        print(\"Geçersiz ders adı!\")\n",
        "else:\n",
        "    print(\"Öğrenci bulunamadı!\")"
      ],
      "metadata": {
        "id": "Sl7EK7FDQsW1",
        "colab": {
          "base_uri": "https://localhost:8080/"
        },
        "outputId": "2ffe78de-e5c3-4e65-94c3-09674f974f1b"
      },
      "execution_count": null,
      "outputs": [
        {
          "output_type": "stream",
          "name": "stdout",
          "text": [
            "Öğrencinin ismini giriniz: Ahmet\n",
            "Hangi dersin notunu öğrenmek istiyorsunuz? (Matematik/Fizik/Kimya): Kimya\n",
            "Ahmet öğrencisinin Kimya notu: 90\n"
          ]
        }
      ]
    },
    {
      "cell_type": "code",
      "source": [],
      "metadata": {
        "id": "WFQO_pqK4naQ"
      },
      "execution_count": null,
      "outputs": []
    },
    {
      "cell_type": "code",
      "source": [
        "notlar = {\n",
        "    \"Ahmet\": {\"Matematik\": 80, \"Fizik\": 75, \"Kimya\": 90},\n",
        "    \"Ayşe\": {\"Matematik\": 95, \"Fizik\": 85, \"Kimya\": 88},\n",
        "    \"Mehmet\": {\"Matematik\": 70, \"Fizik\": 60, \"Kimya\": 78}\n",
        "}\n",
        "\n",
        "while True:\n",
        "    print(\"\\n--- Menü ---\")\n",
        "    print(\"1 - Öğrencinin notunu görüntüle\")\n",
        "    print(\"2 - Öğrencinin notunu güncelle\")\n",
        "    print(\"3 - Yeni öğrenci ekle\")\n",
        "    print(\"4 - Çıkış\")\n",
        "\n",
        "    secim = input(\"Seçiminizi yapın: \")\n",
        "\n",
        "    if secim == \"1\":\n",
        "        isim = input(\"Öğrenci adı: \")\n",
        "        ders = input(\"Ders adı (Matematik/Fizik/Kimya): \")\n",
        "        if isim in notlar and ders in notlar[isim]:\n",
        "            print(f\"{isim} öğrencisinin {ders} notu: {notlar[isim][ders]}\")\n",
        "        else:\n",
        "            print(\"Bilgi bulunamadı!\")\n",
        "\n",
        "    elif secim == \"2\":\n",
        "        isim = input(\"Öğrenci adı: \")\n",
        "        ders = input(\"Ders adı (Matematik/Fizik/Kimya): \")\n",
        "        if isim in notlar and ders in notlar[isim]:\n",
        "            yeni_not = int(input(\"Yeni notu giriniz: \"))\n",
        "            notlar[isim][ders] = yeni_not  # Güncelleme işlemi\n",
        "            print(f\"{isim} öğrencisinin {ders} notu güncellendi: {yeni_not}\")\n",
        "        else:\n",
        "            print(\"Bilgi bulunamadı!\")\n",
        "\n",
        "    elif secim == \"3\":\n",
        "        isim = input(\"Yeni öğrencinin adı: \")\n",
        "        mat = int(input(\"Matematik notu: \"))\n",
        "        fiz = int(input(\"Fizik notu: \"))\n",
        "        kim = int(input(\"Kimya notu: \"))\n",
        "        notlar[isim] = {\"Matematik\": mat, \"Fizik\": fiz, \"Kimya\": kim}  # Yeni ekleme\n",
        "        print(f\"{isim} isimli öğrenci eklendi.\")\n",
        "\n",
        "    elif secim == \"4\":\n",
        "        print(\"Çıkış yapılıyor...\")\n",
        "        break\n",
        "\n",
        "    else:\n",
        "        print(\"Hatalı seçim!\")"
      ],
      "metadata": {
        "id": "U2s2oy7FqraZ"
      },
      "execution_count": null,
      "outputs": []
    }
  ],
  "metadata": {
    "language_info": {
      "name": "python"
    },
    "colab": {
      "provenance": [],
      "include_colab_link": true
    },
    "kernelspec": {
      "name": "python3",
      "display_name": "Python 3"
    }
  },
  "nbformat": 4,
  "nbformat_minor": 0
}